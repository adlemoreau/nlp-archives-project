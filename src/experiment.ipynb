{
 "cells": [
  {
   "cell_type": "code",
   "execution_count": 4,
   "metadata": {},
   "outputs": [
    {
     "name": "stderr",
     "output_type": "stream",
     "text": [
      "/Users/adelemoreau/Desktop/ENSAE/3A/S2/NLP/nlp-lab-text-classification/.venv/lib/python3.9/site-packages/urllib3/__init__.py:35: NotOpenSSLWarning: urllib3 v2 only supports OpenSSL 1.1.1+, currently the 'ssl' module is compiled with 'LibreSSL 2.8.3'. See: https://github.com/urllib3/urllib3/issues/3020\n",
      "  warnings.warn(\n",
      "/Users/adelemoreau/Desktop/ENSAE/3A/S2/NLP/nlp-lab-text-classification/.venv/lib/python3.9/site-packages/tqdm/auto.py:21: TqdmWarning: IProgress not found. Please update jupyter and ipywidgets. See https://ipywidgets.readthedocs.io/en/stable/user_install.html\n",
      "  from .autonotebook import tqdm as notebook_tqdm\n"
     ]
    }
   ],
   "source": [
    "import pandas as pd\n",
    "import evaluate\n",
    "import torch\n",
    "import numpy as np\n",
    "from transformers import TrainingArguments, Trainer, AutoTokenizer, CamembertForTokenClassification, DataCollatorForTokenClassification, AutoModelForTokenClassification\n",
    "import plotly.graph_objects as go\n",
    "from plotly.subplots import make_subplots\n",
    "\n",
    "from load_data import load_df, load_tags, load_and_create_ground_truth_df\n",
    "from preprocessing import first_preprocessing, second_preprocessing\n",
    "from experiment_helper import extract_text_tags_with_id_from_df, split_dataset, MyDataset, show_random_elements, tokenize_and_align_labels"
   ]
  },
  {
   "cell_type": "markdown",
   "metadata": {},
   "source": [
    "### Charger les données et preprocessing"
   ]
  },
  {
   "cell_type": "code",
   "execution_count": 5,
   "metadata": {},
   "outputs": [],
   "source": [
    "# Load data and preprocess\n",
    "\n",
    "data = load_df('../data/entities.json')\n",
    "input_tokens = load_tags('../data/tokens.yml')\n",
    "df = load_and_create_ground_truth_df(data, input_tokens)\n",
    "\n",
    "# Preprocessing for first model\n",
    "df = first_preprocessing(df)\n",
    "\n",
    "# Other preprocessing steps for the second model\n",
    "df = second_preprocessing(df)"
   ]
  },
  {
   "cell_type": "code",
   "execution_count": 6,
   "metadata": {},
   "outputs": [],
   "source": [
    "# Add external data if needed\n",
    "# first_names = pd.read_csv('../data/firstname_with_sex.csv', sep=';')\n",
    "# first_names['firstname'] = first_names['firstname'].str.capitalize()\n",
    "# df = pd.concat([df, first_names], axis=0).drop(columns=['male', 'female'])\n",
    "# df = df.where(pd.notnull(df), None)\n",
    "# first_names.head()\n",
    "\n",
    "# communes = pd.read_csv('../data/georef-france-commune.csv', sep=';', usecols=['Nom Officiel Commune'])\n",
    "# communes.rename(columns={'Nom Officiel Commune': 'lob'}, inplace=True)\n",
    "# df = pd.concat([df, communes], axis=0)\n",
    "# df = df.where(pd.notnull(df), None)\n",
    "# communes.head()"
   ]
  },
  {
   "cell_type": "code",
   "execution_count": 7,
   "metadata": {},
   "outputs": [
    {
     "data": {
      "text/plain": [
       "(25075, 11)"
      ]
     },
     "execution_count": 7,
     "metadata": {},
     "output_type": "execute_result"
    }
   ],
   "source": [
    "df.shape"
   ]
  },
  {
   "cell_type": "markdown",
   "metadata": {},
   "source": [
    "### Expérimentation"
   ]
  },
  {
   "cell_type": "code",
   "execution_count": 8,
   "metadata": {},
   "outputs": [],
   "source": [
    "# Create tags and tag_ids\n",
    "categories = input_tokens.keys()\n",
    "\n",
    "# Remove maiden_name, education_level, observation from the categories\n",
    "categories = [category for category in categories if category not in ['maiden_name', 'education_level', 'observation']]\n",
    "\n",
    "# Create B- and I- tags for each category\n",
    "tagged_categories = []\n",
    "for category in categories:\n",
    "    tagged_categories.append('B-' + category)\n",
    "    tagged_categories.append('I-' + category)\n",
    "\n",
    "# create encodings for our tags\n",
    "tag2id = {tag: id for id, tag in enumerate(tagged_categories)}\n",
    "id2tag = {id: tag for tag, id in tag2id.items()}\n",
    "\n",
    "texts_tags = extract_text_tags_with_id_from_df(df, tag2id)"
   ]
  },
  {
   "cell_type": "code",
   "execution_count": 9,
   "metadata": {},
   "outputs": [
    {
     "data": {
      "text/plain": [
       "[{'id': '0',\n",
       "  'ner_tags': [0, 4, 8, 14, 16, 18],\n",
       "  'tokens': ['25', 'Garçon', 'Cyrille', 'française', 'menuisier', 'Breton']},\n",
       " {'id': '1',\n",
       "  'ner_tags': [0, 4, 8, 14, 16, 20],\n",
       "  'tokens': ['30', 'Garçon', 'Auguste', 'Piémontaise', 'vitrier', 'Ferazzi']},\n",
       " {'id': '2',\n",
       "  'ner_tags': [0, 4, 8, 14, 16, 20],\n",
       "  'tokens': ['24', 'Garçon', 'Pierre', 'Piémontaise', 'vitrier', 'Machol']}]"
      ]
     },
     "execution_count": 9,
     "metadata": {},
     "output_type": "execute_result"
    }
   ],
   "source": [
    "texts_tags[0:3]"
   ]
  },
  {
   "cell_type": "code",
   "execution_count": 10,
   "metadata": {},
   "outputs": [
    {
     "data": {
      "text/plain": [
       "(17552, 3761, 3762)"
      ]
     },
     "execution_count": 10,
     "metadata": {},
     "output_type": "execute_result"
    }
   ],
   "source": [
    "# Split the dataset\n",
    "train_data, validation_data, test_data = split_dataset(texts_tags)\n",
    "len(train_data), len(validation_data), len(test_data)"
   ]
  },
  {
   "cell_type": "code",
   "execution_count": 11,
   "metadata": {},
   "outputs": [
    {
     "name": "stdout",
     "output_type": "stream",
     "text": [
      "DatasetDict({\n",
      "    train: Dataset({\n",
      "        features: ['id', 'ner_tags', 'tokens'],\n",
      "        num_rows: 17552\n",
      "    })\n",
      "    validation: Dataset({\n",
      "        features: ['id', 'ner_tags', 'tokens'],\n",
      "        num_rows: 3761\n",
      "    })\n",
      "    test: Dataset({\n",
      "        features: ['id', 'ner_tags', 'tokens'],\n",
      "        num_rows: 3762\n",
      "    })\n",
      "})\n"
     ]
    }
   ],
   "source": [
    "my_dataset = MyDataset(train_data, validation_data, test_data)\n",
    "dataset_dict = my_dataset.get_dataset()\n",
    "# print(dataset_dict['train'][0])\n",
    "print(dataset_dict)"
   ]
  },
  {
   "cell_type": "code",
   "execution_count": 12,
   "metadata": {},
   "outputs": [],
   "source": [
    "# Load a tokenizer to preprocess the tokens field\n",
    "tokenizer = AutoTokenizer.from_pretrained(\"camembert-base\")"
   ]
  },
  {
   "cell_type": "code",
   "execution_count": 13,
   "metadata": {},
   "outputs": [
    {
     "data": {
      "text/html": [
       "<table border=\"1\" class=\"dataframe\">\n",
       "  <thead>\n",
       "    <tr style=\"text-align: right;\">\n",
       "      <th></th>\n",
       "      <th>id</th>\n",
       "      <th>ner_tags</th>\n",
       "      <th>tokens</th>\n",
       "      <th>tokenized</th>\n",
       "    </tr>\n",
       "  </thead>\n",
       "  <tbody>\n",
       "    <tr>\n",
       "      <th>0</th>\n",
       "      <td>19794</td>\n",
       "      <td>[0, 4, 8, 12, 16, 18]</td>\n",
       "      <td>[18, Garçon, Julien, Commune, domestique, Jourdain]</td>\n",
       "      <td>[&lt;s&gt;, ▁18, ▁Garçon, ▁Julien, ▁Commune, ▁domestique, ▁Jour, da, in, &lt;/s&gt;]</td>\n",
       "    </tr>\n",
       "    <tr>\n",
       "      <th>1</th>\n",
       "      <td>15257</td>\n",
       "      <td>[0, 8, 10, 18]</td>\n",
       "      <td>[10, Germaine, enft, Francois]</td>\n",
       "      <td>[&lt;s&gt;, ▁10, ▁Germain, e, ▁en, ft, ▁Franco, is, &lt;/s&gt;]</td>\n",
       "    </tr>\n",
       "    <tr>\n",
       "      <th>2</th>\n",
       "      <td>1286</td>\n",
       "      <td>[2, 6, 8, 10, 11, 11, 12, 13, 14, 16, 20]</td>\n",
       "      <td>[1890, Sipeyre, Albert, chef, de, ménage, Toehbach, (Rhin), francaise, Jardinier, Ethlmann]</td>\n",
       "      <td>[&lt;s&gt;, ▁1890, ▁Si, pe, yre, ▁Albert, ▁chef, ▁de, ▁ménage, ▁To, e, h, bach, ▁(, Rhin, ), ▁francaise, ▁Jardin, ier, ▁Et, hl, mann, &lt;/s&gt;]</td>\n",
       "    </tr>\n",
       "    <tr>\n",
       "      <th>3</th>\n",
       "      <td>2388</td>\n",
       "      <td>[2, 8, 10, 12, 14, 16, 18]</td>\n",
       "      <td>[1903, Louise, fille, Empurany, français, ouvrière, Costerousse]</td>\n",
       "      <td>[&lt;s&gt;, ▁19, 03, ▁Louise, ▁fille, ▁Emp, ura, ny, ▁français, ▁ouvrière, ▁Co, ster, ousse, &lt;/s&gt;]</td>\n",
       "    </tr>\n",
       "    <tr>\n",
       "      <th>4</th>\n",
       "      <td>21122</td>\n",
       "      <td>[0, 8, 10, 14, 18]</td>\n",
       "      <td>[45, Rose, domestique, français, Forgerit]</td>\n",
       "      <td>[&lt;s&gt;, ▁45, ▁Rose, ▁domestique, ▁français, ▁Forge, rit, &lt;/s&gt;]</td>\n",
       "    </tr>\n",
       "    <tr>\n",
       "      <th>5</th>\n",
       "      <td>7375</td>\n",
       "      <td>[2, 8, 10, 12, 14, 18]</td>\n",
       "      <td>[1913, Yvonne, fille, Sermentizou, française, Gidon]</td>\n",
       "      <td>[&lt;s&gt;, ▁1913, ▁Yvon, ne, ▁fille, ▁Ser, ment, iz, ou, ▁française, ▁Gi, don, &lt;/s&gt;]</td>\n",
       "    </tr>\n",
       "    <tr>\n",
       "      <th>6</th>\n",
       "      <td>13150</td>\n",
       "      <td>[2, 6, 7, 8, 10, 12, 14, 16, 20]</td>\n",
       "      <td>[1856, Croquine, Vernon, Constance, chef, Champenard, française, laveuse, Droyer]</td>\n",
       "      <td>[&lt;s&gt;, ▁18, 56, ▁Cro, quin, e, ▁Vern, on, ▁Constance, ▁chef, ▁Champ, en, ard, ▁française, ▁lave, use, ▁Dr, oyer, &lt;/s&gt;]</td>\n",
       "    </tr>\n",
       "    <tr>\n",
       "      <th>7</th>\n",
       "      <td>21174</td>\n",
       "      <td>[0, 8, 10, 18]</td>\n",
       "      <td>[18, Armantine, servante, Aulneau]</td>\n",
       "      <td>[&lt;s&gt;, ▁18, ▁Arm, ant, ine, ▁servant, e, ▁Au, l, neau, &lt;/s&gt;]</td>\n",
       "    </tr>\n",
       "    <tr>\n",
       "      <th>8</th>\n",
       "      <td>19262</td>\n",
       "      <td>[4, 8, 10, 11, 18]</td>\n",
       "      <td>[Garçon, Jacques, sa, femme, Bonneteau]</td>\n",
       "      <td>[&lt;s&gt;, ▁Garçon, ▁Jacques, ▁sa, ▁femme, ▁Bonne, t, eau, &lt;/s&gt;]</td>\n",
       "    </tr>\n",
       "    <tr>\n",
       "      <th>9</th>\n",
       "      <td>1255</td>\n",
       "      <td>[2, 8, 10, 12, 13, 13, 14, 16, 18]</td>\n",
       "      <td>[1881, Marthe, ép, Fleury, sur, Andelle, française, s.p, Rottée]</td>\n",
       "      <td>[&lt;s&gt;, ▁1881, ▁Mar, the, ▁ép, ▁Fleur, y, ▁sur, ▁And, elle, ▁française, ▁s, ., p, ▁Rot, tée, &lt;/s&gt;]</td>\n",
       "    </tr>\n",
       "  </tbody>\n",
       "</table>"
      ],
      "text/plain": [
       "<IPython.core.display.HTML object>"
      ]
     },
     "metadata": {},
     "output_type": "display_data"
    }
   ],
   "source": [
    "show_random_elements(dataset_dict[\"train\"], tokenizer)"
   ]
  },
  {
   "cell_type": "code",
   "execution_count": 14,
   "metadata": {},
   "outputs": [
    {
     "name": "stderr",
     "output_type": "stream",
     "text": [
      "Map:   0%|          | 0/17552 [00:00<?, ? examples/s]huggingface/tokenizers: The current process just got forked, after parallelism has already been used. Disabling parallelism to avoid deadlocks...\n",
      "To disable this warning, you can either:\n",
      "\t- Avoid using `tokenizers` before the fork if possible\n",
      "\t- Explicitly set the environment variable "
     ]
    },
    {
     "name": "stderr",
     "output_type": "stream",
     "text": [
      "TOKENIZERS_PARALLELISM=(true | false)\n",
      "Map: 100%|██████████| 17552/17552 [00:00<00:00, 34693.84 examples/s]\n",
      "Map: 100%|██████████| 3761/3761 [00:00<00:00, 44348.67 examples/s]\n",
      "Map: 100%|██████████| 3762/3762 [00:00<00:00, 44954.98 examples/s]\n"
     ]
    }
   ],
   "source": [
    "# tokenized_dataset = dataset_dict.map(tokenize_and_align_labels, batched=True)\n",
    "tokenized_dataset = dataset_dict.map(lambda examples: tokenize_and_align_labels(examples, tokenizer), batched=True)"
   ]
  },
  {
   "cell_type": "code",
   "execution_count": 15,
   "metadata": {},
   "outputs": [
    {
     "name": "stdout",
     "output_type": "stream",
     "text": [
      "['<s>', '▁13', '▁Fille', '▁Marie', '▁leur', '▁fille', '▁ber', 'gère', '▁La', 'rig', 'u', 'ou', '</s>']\n",
      "{'id': '21505', 'ner_tags': [0, 4, 8, 10, 11, 16, 18], 'tokens': ['13', 'Fille', 'Marie', 'leur', 'fille', 'bergère', 'Lariguou'], 'input_ids': [5, 560, 8765, 1521, 97, 536, 8481, 8500, 61, 5911, 518, 308, 6], 'attention_mask': [1, 1, 1, 1, 1, 1, 1, 1, 1, 1, 1, 1, 1], 'labels': [-100, 0, 4, 8, 10, 11, 16, -100, 18, -100, -100, -100, -100]}\n"
     ]
    }
   ],
   "source": [
    "# Verify that the labels are correctly aligned with the tokenized input, especially after tokenization,\n",
    "# since wordpiece tokenization can split tokens into subwords.\n",
    "print([tokenizer.convert_ids_to_tokens(input_ids) for input_ids in tokenized_dataset['train'][3]['input_ids']])\n",
    "print(tokenized_dataset['train'][3])"
   ]
  },
  {
   "cell_type": "code",
   "execution_count": 16,
   "metadata": {},
   "outputs": [],
   "source": [
    "data_collator = DataCollatorForTokenClassification(tokenizer=tokenizer)"
   ]
  },
  {
   "cell_type": "code",
   "execution_count": 17,
   "metadata": {},
   "outputs": [],
   "source": [
    "# Eval\n",
    "seqeval = evaluate.load(\"seqeval\")"
   ]
  },
  {
   "cell_type": "code",
   "execution_count": 18,
   "metadata": {},
   "outputs": [
    {
     "data": {
      "text/plain": [
       "22"
      ]
     },
     "execution_count": 18,
     "metadata": {},
     "output_type": "execute_result"
    }
   ],
   "source": [
    "len(tagged_categories)"
   ]
  },
  {
   "cell_type": "code",
   "execution_count": 19,
   "metadata": {},
   "outputs": [
    {
     "name": "stderr",
     "output_type": "stream",
     "text": [
      "Some weights of CamembertForTokenClassification were not initialized from the model checkpoint at camembert-base and are newly initialized: ['classifier.bias', 'classifier.weight']\n",
      "You should probably TRAIN this model on a down-stream task to be able to use it for predictions and inference.\n"
     ]
    }
   ],
   "source": [
    "# Train\n",
    "# model = AutoModelForTokenClassification.from_pretrained(\"distilbert/distilbert-base-uncased\", num_labels=28, id2label=id2tag, label2id=tag2id)\n",
    "model = CamembertForTokenClassification.from_pretrained(\"camembert-base\", num_labels=22, id2label=id2tag, label2id=tag2id)\n",
    "# model = CamembertForTokenClassification.from_pretrained(\"camembert-base\", num_labels=28, id2label=id2tag, label2id=tag2id)"
   ]
  },
  {
   "cell_type": "code",
   "execution_count": 20,
   "metadata": {},
   "outputs": [
    {
     "data": {
      "text/plain": [
       "CamembertForTokenClassification(\n",
       "  (roberta): CamembertModel(\n",
       "    (embeddings): CamembertEmbeddings(\n",
       "      (word_embeddings): Embedding(32005, 768, padding_idx=1)\n",
       "      (position_embeddings): Embedding(514, 768, padding_idx=1)\n",
       "      (token_type_embeddings): Embedding(1, 768)\n",
       "      (LayerNorm): LayerNorm((768,), eps=1e-05, elementwise_affine=True)\n",
       "      (dropout): Dropout(p=0.1, inplace=False)\n",
       "    )\n",
       "    (encoder): CamembertEncoder(\n",
       "      (layer): ModuleList(\n",
       "        (0-11): 12 x CamembertLayer(\n",
       "          (attention): CamembertAttention(\n",
       "            (self): CamembertSelfAttention(\n",
       "              (query): Linear(in_features=768, out_features=768, bias=True)\n",
       "              (key): Linear(in_features=768, out_features=768, bias=True)\n",
       "              (value): Linear(in_features=768, out_features=768, bias=True)\n",
       "              (dropout): Dropout(p=0.1, inplace=False)\n",
       "            )\n",
       "            (output): CamembertSelfOutput(\n",
       "              (dense): Linear(in_features=768, out_features=768, bias=True)\n",
       "              (LayerNorm): LayerNorm((768,), eps=1e-05, elementwise_affine=True)\n",
       "              (dropout): Dropout(p=0.1, inplace=False)\n",
       "            )\n",
       "          )\n",
       "          (intermediate): CamembertIntermediate(\n",
       "            (dense): Linear(in_features=768, out_features=3072, bias=True)\n",
       "            (intermediate_act_fn): GELUActivation()\n",
       "          )\n",
       "          (output): CamembertOutput(\n",
       "            (dense): Linear(in_features=3072, out_features=768, bias=True)\n",
       "            (LayerNorm): LayerNorm((768,), eps=1e-05, elementwise_affine=True)\n",
       "            (dropout): Dropout(p=0.1, inplace=False)\n",
       "          )\n",
       "        )\n",
       "      )\n",
       "    )\n",
       "  )\n",
       "  (dropout): Dropout(p=0.1, inplace=False)\n",
       "  (classifier): Linear(in_features=768, out_features=22, bias=True)\n",
       ")"
      ]
     },
     "execution_count": 20,
     "metadata": {},
     "output_type": "execute_result"
    }
   ],
   "source": [
    "model"
   ]
  },
  {
   "cell_type": "code",
   "execution_count": 21,
   "metadata": {},
   "outputs": [],
   "source": [
    "def compute_metrics(p):\n",
    "    \"\"\"Calculates the metrics for the model.\"\"\"\n",
    "    predictions, labels = p\n",
    "    predictions = np.argmax(predictions, axis=2)\n",
    "\n",
    "    true_predictions = [\n",
    "        [tagged_categories[p] for (p, l) in zip(prediction, label) if l != -100]\n",
    "        for prediction, label in zip(predictions, labels)\n",
    "    ]\n",
    "    true_labels = [\n",
    "        [tagged_categories[l] for (p, l) in zip(prediction, label) if l != -100]\n",
    "        for prediction, label in zip(predictions, labels)\n",
    "    ]\n",
    "\n",
    "    results = seqeval.compute(predictions=true_predictions, references=true_labels)\n",
    "    return {\n",
    "        \"precision\": results[\"overall_precision\"],\n",
    "        \"recall\": results[\"overall_recall\"],\n",
    "        \"f1\": results[\"overall_f1\"],\n",
    "        \"accuracy\": results[\"overall_accuracy\"],\n",
    "    }"
   ]
  },
  {
   "cell_type": "code",
   "execution_count": 18,
   "metadata": {},
   "outputs": [
    {
     "name": "stderr",
     "output_type": "stream",
     "text": [
      "/Users/adelemoreau/Desktop/ENSAE/3A/S2/NLP/nlp-lab-text-classification/.venv/lib/python3.9/site-packages/accelerate/accelerator.py:432: FutureWarning: Passing the following arguments to `Accelerator` is deprecated and will be removed in version 1.0 of Accelerate: dict_keys(['dispatch_batches', 'split_batches', 'even_batches', 'use_seedable_sampler']). Please pass an `accelerate.DataLoaderConfiguration` instead: \n",
      "dataloader_config = DataLoaderConfiguration(dispatch_batches=None, split_batches=False, even_batches=True, use_seedable_sampler=True)\n",
      "  warnings.warn(\n",
      " 46%|████▌     | 500/1097 [03:26<02:31,  3.94it/s]"
     ]
    },
    {
     "name": "stdout",
     "output_type": "stream",
     "text": [
      "{'loss': 1.5253, 'grad_norm': 1.989731788635254, 'learning_rate': 1.0884229717411122e-05, 'epoch': 0.46}\n"
     ]
    },
    {
     "name": "stderr",
     "output_type": "stream",
     "text": [
      " 91%|█████████ | 1000/1097 [05:52<00:27,  3.50it/s]"
     ]
    },
    {
     "name": "stdout",
     "output_type": "stream",
     "text": [
      "{'loss': 0.8621, 'grad_norm': 1.3360854387283325, 'learning_rate': 1.7684594348222425e-06, 'epoch': 0.91}\n"
     ]
    },
    {
     "name": "stderr",
     "output_type": "stream",
     "text": [
      "                                                   \n",
      "100%|██████████| 1097/1097 [06:37<00:00,  3.49it/s]"
     ]
    },
    {
     "name": "stdout",
     "output_type": "stream",
     "text": [
      "{'eval_loss': 0.7026417851448059, 'eval_precision': 0.9534067910951203, 'eval_recall': 0.966093970742378, 'eval_f1': 0.9597084521707637, 'eval_accuracy': 0.9656755655941053, 'eval_runtime': 15.5757, 'eval_samples_per_second': 241.465, 'eval_steps_per_second': 15.152, 'epoch': 1.0}\n"
     ]
    },
    {
     "name": "stderr",
     "output_type": "stream",
     "text": [
      "100%|██████████| 1097/1097 [06:42<00:00,  2.73it/s]"
     ]
    },
    {
     "name": "stdout",
     "output_type": "stream",
     "text": [
      "{'train_runtime': 402.0344, 'train_samples_per_second': 43.658, 'train_steps_per_second': 2.729, 'train_loss': 1.1571335075329734, 'epoch': 1.0}\n"
     ]
    },
    {
     "name": "stderr",
     "output_type": "stream",
     "text": [
      "\n"
     ]
    },
    {
     "data": {
      "text/plain": [
       "TrainOutput(global_step=1097, training_loss=1.1571335075329734, metrics={'train_runtime': 402.0344, 'train_samples_per_second': 43.658, 'train_steps_per_second': 2.729, 'train_loss': 1.1571335075329734, 'epoch': 1.0})"
      ]
     },
     "execution_count": 18,
     "metadata": {},
     "output_type": "execute_result"
    }
   ],
   "source": [
    "training_args = TrainingArguments(\n",
    "    output_dir=\"camembert-base-0704-3\",\n",
    "    learning_rate=2e-5,\n",
    "    per_device_train_batch_size=16,\n",
    "    per_device_eval_batch_size=16,\n",
    "    num_train_epochs=2,\n",
    "    weight_decay=0.01,\n",
    "    evaluation_strategy=\"epoch\",\n",
    "    save_strategy=\"epoch\",\n",
    "    load_best_model_at_end=True,\n",
    "    push_to_hub=False,\n",
    ")\n",
    "\n",
    "trainer = Trainer(\n",
    "    model=model,\n",
    "    args=training_args,\n",
    "    train_dataset=tokenized_dataset[\"train\"],\n",
    "    eval_dataset=tokenized_dataset[\"validation\"],\n",
    "    # eval_dataset=tokenized_dataset[\"test\"],\n",
    "    tokenizer=tokenizer,\n",
    "    data_collator=data_collator,\n",
    "    compute_metrics=compute_metrics,\n",
    ")\n",
    "\n",
    "# Finetune the model\n",
    "trainer.train()"
   ]
  },
  {
   "cell_type": "code",
   "execution_count": 19,
   "metadata": {},
   "outputs": [
    {
     "name": "stderr",
     "output_type": "stream",
     "text": [
      "100%|██████████| 236/236 [00:35<00:00,  6.71it/s]\n"
     ]
    },
    {
     "data": {
      "text/plain": [
       "{'eval_loss': 0.6969587802886963,\n",
       " 'eval_precision': 0.9564302346408741,\n",
       " 'eval_recall': 0.9687939402186239,\n",
       " 'eval_f1': 0.962572387841096,\n",
       " 'eval_accuracy': 0.967741935483871,\n",
       " 'eval_runtime': 35.3126,\n",
       " 'eval_samples_per_second': 106.534,\n",
       " 'eval_steps_per_second': 6.683,\n",
       " 'epoch': 1.0}"
      ]
     },
     "execution_count": 19,
     "metadata": {},
     "output_type": "execute_result"
    }
   ],
   "source": [
    "# evaluate again on the evaluation dataset or on another dataset\n",
    "trainer.evaluate(eval_dataset=tokenized_dataset[\"test\"])"
   ]
  },
  {
   "cell_type": "code",
   "execution_count": 20,
   "metadata": {},
   "outputs": [
    {
     "name": "stderr",
     "output_type": "stream",
     "text": [
      "100%|██████████| 236/236 [00:25<00:00,  9.12it/s]\n"
     ]
    },
    {
     "data": {
      "text/html": [
       "<div>\n",
       "<style scoped>\n",
       "    .dataframe tbody tr th:only-of-type {\n",
       "        vertical-align: middle;\n",
       "    }\n",
       "\n",
       "    .dataframe tbody tr th {\n",
       "        vertical-align: top;\n",
       "    }\n",
       "\n",
       "    .dataframe thead th {\n",
       "        text-align: right;\n",
       "    }\n",
       "</style>\n",
       "<table border=\"1\" class=\"dataframe\">\n",
       "  <thead>\n",
       "    <tr style=\"text-align: right;\">\n",
       "      <th></th>\n",
       "      <th>Category</th>\n",
       "      <th>F1 Score</th>\n",
       "      <th>Recall</th>\n",
       "      <th>Precision</th>\n",
       "    </tr>\n",
       "  </thead>\n",
       "  <tbody>\n",
       "    <tr>\n",
       "      <th>1</th>\n",
       "      <td>birth_date</td>\n",
       "      <td>1.000000</td>\n",
       "      <td>1.000000</td>\n",
       "      <td>1.000000</td>\n",
       "    </tr>\n",
       "    <tr>\n",
       "      <th>0</th>\n",
       "      <td>age</td>\n",
       "      <td>0.999794</td>\n",
       "      <td>1.000000</td>\n",
       "      <td>0.999587</td>\n",
       "    </tr>\n",
       "    <tr>\n",
       "      <th>2</th>\n",
       "      <td>civil_status</td>\n",
       "      <td>0.999374</td>\n",
       "      <td>1.000000</td>\n",
       "      <td>0.998749</td>\n",
       "    </tr>\n",
       "    <tr>\n",
       "      <th>4</th>\n",
       "      <td>firstname</td>\n",
       "      <td>0.989872</td>\n",
       "      <td>0.990400</td>\n",
       "      <td>0.989345</td>\n",
       "    </tr>\n",
       "    <tr>\n",
       "      <th>7</th>\n",
       "      <td>nationality</td>\n",
       "      <td>0.989194</td>\n",
       "      <td>0.991142</td>\n",
       "      <td>0.987255</td>\n",
       "    </tr>\n",
       "    <tr>\n",
       "      <th>5</th>\n",
       "      <td>link</td>\n",
       "      <td>0.979592</td>\n",
       "      <td>0.981783</td>\n",
       "      <td>0.977410</td>\n",
       "    </tr>\n",
       "    <tr>\n",
       "      <th>6</th>\n",
       "      <td>lob</td>\n",
       "      <td>0.970914</td>\n",
       "      <td>0.985935</td>\n",
       "      <td>0.956344</td>\n",
       "    </tr>\n",
       "    <tr>\n",
       "      <th>8</th>\n",
       "      <td>occupation</td>\n",
       "      <td>0.970729</td>\n",
       "      <td>0.968918</td>\n",
       "      <td>0.972546</td>\n",
       "    </tr>\n",
       "    <tr>\n",
       "      <th>9</th>\n",
       "      <td>surname</td>\n",
       "      <td>0.918723</td>\n",
       "      <td>0.912894</td>\n",
       "      <td>0.924627</td>\n",
       "    </tr>\n",
       "    <tr>\n",
       "      <th>10</th>\n",
       "      <td>surname_household</td>\n",
       "      <td>0.783305</td>\n",
       "      <td>0.847772</td>\n",
       "      <td>0.727949</td>\n",
       "    </tr>\n",
       "    <tr>\n",
       "      <th>3</th>\n",
       "      <td>employer</td>\n",
       "      <td>0.659898</td>\n",
       "      <td>0.755814</td>\n",
       "      <td>0.585586</td>\n",
       "    </tr>\n",
       "  </tbody>\n",
       "</table>\n",
       "</div>"
      ],
      "text/plain": [
       "             Category  F1 Score    Recall  Precision\n",
       "1          birth_date  1.000000  1.000000   1.000000\n",
       "0                 age  0.999794  1.000000   0.999587\n",
       "2        civil_status  0.999374  1.000000   0.998749\n",
       "4           firstname  0.989872  0.990400   0.989345\n",
       "7         nationality  0.989194  0.991142   0.987255\n",
       "5                link  0.979592  0.981783   0.977410\n",
       "6                 lob  0.970914  0.985935   0.956344\n",
       "8          occupation  0.970729  0.968918   0.972546\n",
       "9             surname  0.918723  0.912894   0.924627\n",
       "10  surname_household  0.783305  0.847772   0.727949\n",
       "3            employer  0.659898  0.755814   0.585586"
      ]
     },
     "execution_count": 20,
     "metadata": {},
     "output_type": "execute_result"
    }
   ],
   "source": [
    "predictions, labels, _ = trainer.predict(tokenized_dataset[\"test\"])\n",
    "predictions = np.argmax(predictions, axis=2)\n",
    "\n",
    "true_predictions = [\n",
    "    [tagged_categories[p] for (p, l) in zip(prediction, label) if l != -100]\n",
    "    for prediction, label in zip(predictions, labels)\n",
    "]\n",
    "true_labels = [\n",
    "    [tagged_categories[l] for (p, l) in zip(prediction, label) if l != -100]\n",
    "    for prediction, label in zip(predictions, labels)\n",
    "]\n",
    "results = seqeval.compute(predictions=true_predictions, references=true_labels)\n",
    "\n",
    "# Get scores and categories\n",
    "f1_scores = {category: results[category]['f1'] for category in results if category not in ['overall_precision', 'overall_recall', 'overall_f1', 'overall_accuracy']}\n",
    "recall = {category: results[category]['recall'] for category in results if category not in ['overall_precision', 'overall_recall', 'overall_f1', 'overall_accuracy']}\n",
    "precision = {category: results[category]['precision'] for category in results if category not in ['overall_precision', 'overall_recall', 'overall_f1', 'overall_accuracy']}\n",
    "df_scores = pd.DataFrame(f1_scores.items(), columns=['Category', 'F1 Score'])\n",
    "df_scores['Recall'] = [recall[category] for category in df_scores['Category']]\n",
    "df_scores['Precision'] = [precision[category] for category in df_scores['Category']]\n",
    "df_scores = df_scores.sort_values(by='F1 Score', ascending=False)\n",
    "df_scores"
   ]
  },
  {
   "cell_type": "markdown",
   "metadata": {},
   "source": [
    "#### Inférence"
   ]
  },
  {
   "cell_type": "code",
   "execution_count": 22,
   "metadata": {},
   "outputs": [],
   "source": [
    "# Inférence\n",
    "# text = \"45 ans Pierre Homme marié  française chef de ménage SNCF Breton\"\n",
    "# text = \"82 Louis journalier chef de mén Veuf français Vendée Laidet\"\n",
    "# text = \"auber elise s.p épouse 1842 française fleury s andelle\"\n",
    "# text = '66 Antoine chef française cult Dumergue'\n",
    "# text = '33 Homme marié Jean chef de ménage idem idem domestique en chef Guillotteau'\n",
    "# text = '20 Fille Emilie idem Vignal'\n",
    "# text = '1860 Choffre Antoine Veuf Homme Femme française cultivateur'\n",
    "# text = '1999 Adèle Moreau Fille française étudiante Bretagne'\n",
    "# text = 'française Fille Moreau Adèle 24 ans Dinan étudiante ingénieur'\n",
    "text = '24 ans Adèle Fille française Dinan étudiante ingénieur Moreau'"
   ]
  },
  {
   "cell_type": "code",
   "execution_count": 23,
   "metadata": {},
   "outputs": [
    {
     "data": {
      "text/html": [
       "<div>\n",
       "<style scoped>\n",
       "    .dataframe tbody tr th:only-of-type {\n",
       "        vertical-align: middle;\n",
       "    }\n",
       "\n",
       "    .dataframe tbody tr th {\n",
       "        vertical-align: top;\n",
       "    }\n",
       "\n",
       "    .dataframe thead th {\n",
       "        text-align: right;\n",
       "    }\n",
       "</style>\n",
       "<table border=\"1\" class=\"dataframe\">\n",
       "  <thead>\n",
       "    <tr style=\"text-align: right;\">\n",
       "      <th></th>\n",
       "      <th>age</th>\n",
       "      <th>birth_date</th>\n",
       "      <th>civil_status</th>\n",
       "      <th>employer</th>\n",
       "      <th>firstname</th>\n",
       "      <th>link</th>\n",
       "      <th>lob</th>\n",
       "      <th>nationality</th>\n",
       "      <th>occupation</th>\n",
       "      <th>surname</th>\n",
       "      <th>surname_household</th>\n",
       "    </tr>\n",
       "  </thead>\n",
       "  <tbody>\n",
       "    <tr>\n",
       "      <th>21240</th>\n",
       "      <td>18</td>\n",
       "      <td>None</td>\n",
       "      <td>None</td>\n",
       "      <td>None</td>\n",
       "      <td>Adèle</td>\n",
       "      <td>None</td>\n",
       "      <td>None</td>\n",
       "      <td>None</td>\n",
       "      <td>servante</td>\n",
       "      <td>Moreau</td>\n",
       "      <td>None</td>\n",
       "    </tr>\n",
       "  </tbody>\n",
       "</table>\n",
       "</div>"
      ],
      "text/plain": [
       "      age birth_date civil_status employer firstname  link   lob nationality  \\\n",
       "21240  18       None         None     None     Adèle  None  None        None   \n",
       "\n",
       "      occupation surname surname_household  \n",
       "21240   servante  Moreau              None  "
      ]
     },
     "execution_count": 23,
     "metadata": {},
     "output_type": "execute_result"
    }
   ],
   "source": [
    "df[(df['surname']=='Moreau') & (df['firstname']=='Adèle')]"
   ]
  },
  {
   "cell_type": "code",
   "execution_count": 24,
   "metadata": {},
   "outputs": [],
   "source": [
    "# classifier = pipeline(\"ner\", model=\"camembert-base1/checkpoint-2508/\")\n",
    "# classifier(text)"
   ]
  },
  {
   "cell_type": "code",
   "execution_count": 25,
   "metadata": {},
   "outputs": [],
   "source": [
    "tokenizer = AutoTokenizer.from_pretrained(\"camembert-base-0704-3/checkpoint-1097/\")\n",
    "inputs = tokenizer(text, return_tensors=\"pt\")"
   ]
  },
  {
   "cell_type": "code",
   "execution_count": 26,
   "metadata": {},
   "outputs": [],
   "source": [
    "model = AutoModelForTokenClassification.from_pretrained(\"camembert-base-0704-3/checkpoint-1097/\")\n",
    "with torch.no_grad():\n",
    "    logits = model(**inputs).logits"
   ]
  },
  {
   "cell_type": "code",
   "execution_count": 27,
   "metadata": {},
   "outputs": [
    {
     "name": "stdout",
     "output_type": "stream",
     "text": [
      "Token associated to the word 2: ▁ans\n",
      "tensor([0.0373, 0.2349, 0.0518, 0.0426, 0.0369, 0.0508, 0.0454, 0.0406, 0.0265,\n",
      "        0.0388, 0.0301, 0.0524, 0.0286, 0.0271, 0.0284, 0.0359, 0.0283, 0.0337,\n",
      "        0.0267, 0.0390, 0.0304, 0.0339])\n",
      "Top 3 probabilities: tensor([0.2349, 0.0524, 0.0518])\n",
      "Top 3 categories: tensor([ 1, 11,  2])\n",
      "Categories associated to the top 3 probabilities:  ['I-age', 'I-link', 'B-birth_date']\n"
     ]
    }
   ],
   "source": [
    "# Get probabilities from logits for each token\n",
    "index = 2\n",
    "\n",
    "def get_probas_from_logits(logits):\n",
    "    return logits.softmax(-1)\n",
    "\n",
    "probas = get_probas_from_logits(logits)\n",
    "print(f\"Token associated to the word {index}: {tokenizer.convert_ids_to_tokens(int(inputs['input_ids'][0][index]))}\")\n",
    "print(probas[0, index, :])\n",
    "\n",
    "# print the 3 max probabilities\n",
    "print(f\"Top 3 probabilities: {torch.topk(probas[0, index, :], 3).values}\")\n",
    "print(f\"Top 3 categories: {torch.topk(probas[0, index, :], 3).indices}\")\n",
    "print(\"Categories associated to the top 3 probabilities: \", [id2tag[i] for i in torch.topk(probas[0, index, :], 3).indices.tolist()])\n"
   ]
  },
  {
   "cell_type": "code",
   "execution_count": 28,
   "metadata": {},
   "outputs": [
    {
     "data": {
      "application/vnd.plotly.v1+json": {
       "config": {
        "plotlyServerURL": "https://plot.ly"
       },
       "data": [
        {
         "text": [
          "B-lob",
          "B-age",
          "I-age",
          "B-firstname",
          "B-firstname",
          "B-link",
          "B-nationality",
          "B-lob",
          "B-lob",
          "B-occupation",
          "I-occupation",
          "B-surname",
          "B-lob"
         ],
         "type": "bar",
         "x": [
          "<s>",
          "▁24",
          "▁ans",
          "▁A",
          "dèle",
          "▁Fille",
          "▁française",
          "▁Din",
          "an",
          "▁étudiante",
          "▁ingénieur",
          "▁Moreau",
          "</s>"
         ],
         "y": [
          0.07392428815364838,
          0.560065746307373,
          0.23494750261306763,
          0.6104488968849182,
          0.605221688747406,
          0.5892490148544312,
          0.5712444186210632,
          0.4975818991661072,
          0.49331414699554443,
          0.577812671661377,
          0.3962547183036804,
          0.5465426445007324,
          0.07150322943925858
         ]
        }
       ],
       "layout": {
        "font": {
         "color": "RebeccaPurple",
         "family": "Arial, sans-serif",
         "size": 17
        },
        "height": 600,
        "template": {
         "data": {
          "bar": [
           {
            "error_x": {
             "color": "#2a3f5f"
            },
            "error_y": {
             "color": "#2a3f5f"
            },
            "marker": {
             "line": {
              "color": "#E5ECF6",
              "width": 0.5
             },
             "pattern": {
              "fillmode": "overlay",
              "size": 10,
              "solidity": 0.2
             }
            },
            "type": "bar"
           }
          ],
          "barpolar": [
           {
            "marker": {
             "line": {
              "color": "#E5ECF6",
              "width": 0.5
             },
             "pattern": {
              "fillmode": "overlay",
              "size": 10,
              "solidity": 0.2
             }
            },
            "type": "barpolar"
           }
          ],
          "carpet": [
           {
            "aaxis": {
             "endlinecolor": "#2a3f5f",
             "gridcolor": "white",
             "linecolor": "white",
             "minorgridcolor": "white",
             "startlinecolor": "#2a3f5f"
            },
            "baxis": {
             "endlinecolor": "#2a3f5f",
             "gridcolor": "white",
             "linecolor": "white",
             "minorgridcolor": "white",
             "startlinecolor": "#2a3f5f"
            },
            "type": "carpet"
           }
          ],
          "choropleth": [
           {
            "colorbar": {
             "outlinewidth": 0,
             "ticks": ""
            },
            "type": "choropleth"
           }
          ],
          "contour": [
           {
            "colorbar": {
             "outlinewidth": 0,
             "ticks": ""
            },
            "colorscale": [
             [
              0,
              "#0d0887"
             ],
             [
              0.1111111111111111,
              "#46039f"
             ],
             [
              0.2222222222222222,
              "#7201a8"
             ],
             [
              0.3333333333333333,
              "#9c179e"
             ],
             [
              0.4444444444444444,
              "#bd3786"
             ],
             [
              0.5555555555555556,
              "#d8576b"
             ],
             [
              0.6666666666666666,
              "#ed7953"
             ],
             [
              0.7777777777777778,
              "#fb9f3a"
             ],
             [
              0.8888888888888888,
              "#fdca26"
             ],
             [
              1,
              "#f0f921"
             ]
            ],
            "type": "contour"
           }
          ],
          "contourcarpet": [
           {
            "colorbar": {
             "outlinewidth": 0,
             "ticks": ""
            },
            "type": "contourcarpet"
           }
          ],
          "heatmap": [
           {
            "colorbar": {
             "outlinewidth": 0,
             "ticks": ""
            },
            "colorscale": [
             [
              0,
              "#0d0887"
             ],
             [
              0.1111111111111111,
              "#46039f"
             ],
             [
              0.2222222222222222,
              "#7201a8"
             ],
             [
              0.3333333333333333,
              "#9c179e"
             ],
             [
              0.4444444444444444,
              "#bd3786"
             ],
             [
              0.5555555555555556,
              "#d8576b"
             ],
             [
              0.6666666666666666,
              "#ed7953"
             ],
             [
              0.7777777777777778,
              "#fb9f3a"
             ],
             [
              0.8888888888888888,
              "#fdca26"
             ],
             [
              1,
              "#f0f921"
             ]
            ],
            "type": "heatmap"
           }
          ],
          "heatmapgl": [
           {
            "colorbar": {
             "outlinewidth": 0,
             "ticks": ""
            },
            "colorscale": [
             [
              0,
              "#0d0887"
             ],
             [
              0.1111111111111111,
              "#46039f"
             ],
             [
              0.2222222222222222,
              "#7201a8"
             ],
             [
              0.3333333333333333,
              "#9c179e"
             ],
             [
              0.4444444444444444,
              "#bd3786"
             ],
             [
              0.5555555555555556,
              "#d8576b"
             ],
             [
              0.6666666666666666,
              "#ed7953"
             ],
             [
              0.7777777777777778,
              "#fb9f3a"
             ],
             [
              0.8888888888888888,
              "#fdca26"
             ],
             [
              1,
              "#f0f921"
             ]
            ],
            "type": "heatmapgl"
           }
          ],
          "histogram": [
           {
            "marker": {
             "pattern": {
              "fillmode": "overlay",
              "size": 10,
              "solidity": 0.2
             }
            },
            "type": "histogram"
           }
          ],
          "histogram2d": [
           {
            "colorbar": {
             "outlinewidth": 0,
             "ticks": ""
            },
            "colorscale": [
             [
              0,
              "#0d0887"
             ],
             [
              0.1111111111111111,
              "#46039f"
             ],
             [
              0.2222222222222222,
              "#7201a8"
             ],
             [
              0.3333333333333333,
              "#9c179e"
             ],
             [
              0.4444444444444444,
              "#bd3786"
             ],
             [
              0.5555555555555556,
              "#d8576b"
             ],
             [
              0.6666666666666666,
              "#ed7953"
             ],
             [
              0.7777777777777778,
              "#fb9f3a"
             ],
             [
              0.8888888888888888,
              "#fdca26"
             ],
             [
              1,
              "#f0f921"
             ]
            ],
            "type": "histogram2d"
           }
          ],
          "histogram2dcontour": [
           {
            "colorbar": {
             "outlinewidth": 0,
             "ticks": ""
            },
            "colorscale": [
             [
              0,
              "#0d0887"
             ],
             [
              0.1111111111111111,
              "#46039f"
             ],
             [
              0.2222222222222222,
              "#7201a8"
             ],
             [
              0.3333333333333333,
              "#9c179e"
             ],
             [
              0.4444444444444444,
              "#bd3786"
             ],
             [
              0.5555555555555556,
              "#d8576b"
             ],
             [
              0.6666666666666666,
              "#ed7953"
             ],
             [
              0.7777777777777778,
              "#fb9f3a"
             ],
             [
              0.8888888888888888,
              "#fdca26"
             ],
             [
              1,
              "#f0f921"
             ]
            ],
            "type": "histogram2dcontour"
           }
          ],
          "mesh3d": [
           {
            "colorbar": {
             "outlinewidth": 0,
             "ticks": ""
            },
            "type": "mesh3d"
           }
          ],
          "parcoords": [
           {
            "line": {
             "colorbar": {
              "outlinewidth": 0,
              "ticks": ""
             }
            },
            "type": "parcoords"
           }
          ],
          "pie": [
           {
            "automargin": true,
            "type": "pie"
           }
          ],
          "scatter": [
           {
            "fillpattern": {
             "fillmode": "overlay",
             "size": 10,
             "solidity": 0.2
            },
            "type": "scatter"
           }
          ],
          "scatter3d": [
           {
            "line": {
             "colorbar": {
              "outlinewidth": 0,
              "ticks": ""
             }
            },
            "marker": {
             "colorbar": {
              "outlinewidth": 0,
              "ticks": ""
             }
            },
            "type": "scatter3d"
           }
          ],
          "scattercarpet": [
           {
            "marker": {
             "colorbar": {
              "outlinewidth": 0,
              "ticks": ""
             }
            },
            "type": "scattercarpet"
           }
          ],
          "scattergeo": [
           {
            "marker": {
             "colorbar": {
              "outlinewidth": 0,
              "ticks": ""
             }
            },
            "type": "scattergeo"
           }
          ],
          "scattergl": [
           {
            "marker": {
             "colorbar": {
              "outlinewidth": 0,
              "ticks": ""
             }
            },
            "type": "scattergl"
           }
          ],
          "scattermapbox": [
           {
            "marker": {
             "colorbar": {
              "outlinewidth": 0,
              "ticks": ""
             }
            },
            "type": "scattermapbox"
           }
          ],
          "scatterpolar": [
           {
            "marker": {
             "colorbar": {
              "outlinewidth": 0,
              "ticks": ""
             }
            },
            "type": "scatterpolar"
           }
          ],
          "scatterpolargl": [
           {
            "marker": {
             "colorbar": {
              "outlinewidth": 0,
              "ticks": ""
             }
            },
            "type": "scatterpolargl"
           }
          ],
          "scatterternary": [
           {
            "marker": {
             "colorbar": {
              "outlinewidth": 0,
              "ticks": ""
             }
            },
            "type": "scatterternary"
           }
          ],
          "surface": [
           {
            "colorbar": {
             "outlinewidth": 0,
             "ticks": ""
            },
            "colorscale": [
             [
              0,
              "#0d0887"
             ],
             [
              0.1111111111111111,
              "#46039f"
             ],
             [
              0.2222222222222222,
              "#7201a8"
             ],
             [
              0.3333333333333333,
              "#9c179e"
             ],
             [
              0.4444444444444444,
              "#bd3786"
             ],
             [
              0.5555555555555556,
              "#d8576b"
             ],
             [
              0.6666666666666666,
              "#ed7953"
             ],
             [
              0.7777777777777778,
              "#fb9f3a"
             ],
             [
              0.8888888888888888,
              "#fdca26"
             ],
             [
              1,
              "#f0f921"
             ]
            ],
            "type": "surface"
           }
          ],
          "table": [
           {
            "cells": {
             "fill": {
              "color": "#EBF0F8"
             },
             "line": {
              "color": "white"
             }
            },
            "header": {
             "fill": {
              "color": "#C8D4E3"
             },
             "line": {
              "color": "white"
             }
            },
            "type": "table"
           }
          ]
         },
         "layout": {
          "annotationdefaults": {
           "arrowcolor": "#2a3f5f",
           "arrowhead": 0,
           "arrowwidth": 1
          },
          "autotypenumbers": "strict",
          "coloraxis": {
           "colorbar": {
            "outlinewidth": 0,
            "ticks": ""
           }
          },
          "colorscale": {
           "diverging": [
            [
             0,
             "#8e0152"
            ],
            [
             0.1,
             "#c51b7d"
            ],
            [
             0.2,
             "#de77ae"
            ],
            [
             0.3,
             "#f1b6da"
            ],
            [
             0.4,
             "#fde0ef"
            ],
            [
             0.5,
             "#f7f7f7"
            ],
            [
             0.6,
             "#e6f5d0"
            ],
            [
             0.7,
             "#b8e186"
            ],
            [
             0.8,
             "#7fbc41"
            ],
            [
             0.9,
             "#4d9221"
            ],
            [
             1,
             "#276419"
            ]
           ],
           "sequential": [
            [
             0,
             "#0d0887"
            ],
            [
             0.1111111111111111,
             "#46039f"
            ],
            [
             0.2222222222222222,
             "#7201a8"
            ],
            [
             0.3333333333333333,
             "#9c179e"
            ],
            [
             0.4444444444444444,
             "#bd3786"
            ],
            [
             0.5555555555555556,
             "#d8576b"
            ],
            [
             0.6666666666666666,
             "#ed7953"
            ],
            [
             0.7777777777777778,
             "#fb9f3a"
            ],
            [
             0.8888888888888888,
             "#fdca26"
            ],
            [
             1,
             "#f0f921"
            ]
           ],
           "sequentialminus": [
            [
             0,
             "#0d0887"
            ],
            [
             0.1111111111111111,
             "#46039f"
            ],
            [
             0.2222222222222222,
             "#7201a8"
            ],
            [
             0.3333333333333333,
             "#9c179e"
            ],
            [
             0.4444444444444444,
             "#bd3786"
            ],
            [
             0.5555555555555556,
             "#d8576b"
            ],
            [
             0.6666666666666666,
             "#ed7953"
            ],
            [
             0.7777777777777778,
             "#fb9f3a"
            ],
            [
             0.8888888888888888,
             "#fdca26"
            ],
            [
             1,
             "#f0f921"
            ]
           ]
          },
          "colorway": [
           "#636efa",
           "#EF553B",
           "#00cc96",
           "#ab63fa",
           "#FFA15A",
           "#19d3f3",
           "#FF6692",
           "#B6E880",
           "#FF97FF",
           "#FECB52"
          ],
          "font": {
           "color": "#2a3f5f"
          },
          "geo": {
           "bgcolor": "white",
           "lakecolor": "white",
           "landcolor": "#E5ECF6",
           "showlakes": true,
           "showland": true,
           "subunitcolor": "white"
          },
          "hoverlabel": {
           "align": "left"
          },
          "hovermode": "closest",
          "mapbox": {
           "style": "light"
          },
          "paper_bgcolor": "white",
          "plot_bgcolor": "#E5ECF6",
          "polar": {
           "angularaxis": {
            "gridcolor": "white",
            "linecolor": "white",
            "ticks": ""
           },
           "bgcolor": "#E5ECF6",
           "radialaxis": {
            "gridcolor": "white",
            "linecolor": "white",
            "ticks": ""
           }
          },
          "scene": {
           "xaxis": {
            "backgroundcolor": "#E5ECF6",
            "gridcolor": "white",
            "gridwidth": 2,
            "linecolor": "white",
            "showbackground": true,
            "ticks": "",
            "zerolinecolor": "white"
           },
           "yaxis": {
            "backgroundcolor": "#E5ECF6",
            "gridcolor": "white",
            "gridwidth": 2,
            "linecolor": "white",
            "showbackground": true,
            "ticks": "",
            "zerolinecolor": "white"
           },
           "zaxis": {
            "backgroundcolor": "#E5ECF6",
            "gridcolor": "white",
            "gridwidth": 2,
            "linecolor": "white",
            "showbackground": true,
            "ticks": "",
            "zerolinecolor": "white"
           }
          },
          "shapedefaults": {
           "line": {
            "color": "#2a3f5f"
           }
          },
          "ternary": {
           "aaxis": {
            "gridcolor": "white",
            "linecolor": "white",
            "ticks": ""
           },
           "baxis": {
            "gridcolor": "white",
            "linecolor": "white",
            "ticks": ""
           },
           "bgcolor": "#E5ECF6",
           "caxis": {
            "gridcolor": "white",
            "linecolor": "white",
            "ticks": ""
           }
          },
          "title": {
           "x": 0.05
          },
          "xaxis": {
           "automargin": true,
           "gridcolor": "white",
           "linecolor": "white",
           "ticks": "",
           "title": {
            "standoff": 15
           },
           "zerolinecolor": "white",
           "zerolinewidth": 2
          },
          "yaxis": {
           "automargin": true,
           "gridcolor": "white",
           "linecolor": "white",
           "ticks": "",
           "title": {
            "standoff": 15
           },
           "zerolinecolor": "white",
           "zerolinewidth": 2
          }
         }
        },
        "width": 800,
        "xaxis": {
         "tickangle": -45,
         "title": {
          "text": "Token"
         }
        },
        "yaxis": {
         "title": {
          "text": "Probabilité"
         }
        }
       }
      }
     },
     "metadata": {},
     "output_type": "display_data"
    }
   ],
   "source": [
    "# Get the maximum probability for each word\n",
    "max_probabilities = torch.max(probas, dim=2).values.squeeze().tolist()\n",
    "\n",
    "# Get the tokens\n",
    "tokens = tokenizer.convert_ids_to_tokens(inputs['input_ids'][0])\n",
    "tags = [id2tag[torch.argmax(probas[0, i, :]).item()] for i, _ in enumerate(tokens)]\n",
    "\n",
    "fig = go.Figure()\n",
    "fig.add_trace(go.Bar(x=tokens, y=max_probabilities, text=tags,))\n",
    "fig.update_layout(\n",
    "    # title='Top category for each token with its maximum probability',\n",
    "    xaxis_tickangle=-45,\n",
    "    xaxis_title='Token',\n",
    "    yaxis_title='Probabilité',\n",
    "    font=dict(family=\"Arial, sans-serif\", size=17, color=\"RebeccaPurple\"),\n",
    "    width=800,\n",
    "    height=600\n",
    ")\n",
    "fig.show()"
   ]
  },
  {
   "cell_type": "code",
   "execution_count": 29,
   "metadata": {},
   "outputs": [
    {
     "data": {
      "application/vnd.plotly.v1+json": {
       "config": {
        "plotlyServerURL": "https://plot.ly"
       },
       "data": [
        {
         "name": "<s>",
         "orientation": "h",
         "type": "bar",
         "x": [
          0.07392428815364838,
          0.06330372393131256,
          0.0574764758348465,
          0.0547679178416729,
          0.05331329628825188
         ],
         "xaxis": "x",
         "y": [
          "B-lob",
          "I-civil_status",
          "I-link",
          "I-occupation",
          "I-firstname"
         ],
         "yaxis": "y"
        },
        {
         "name": "▁24",
         "orientation": "h",
         "type": "bar",
         "x": [
          0.560065746307373,
          0.0353427417576313,
          0.0269984882324934,
          0.02446143329143524,
          0.02388506755232811
         ],
         "xaxis": "x2",
         "y": [
          "B-age",
          "B-link",
          "B-occupation",
          "B-firstname",
          "I-link"
         ],
         "yaxis": "y2"
        },
        {
         "name": "▁ans",
         "orientation": "h",
         "type": "bar",
         "x": [
          0.23494750261306763,
          0.05236358940601349,
          0.051758356392383575,
          0.050767187029123306,
          0.0454331636428833
         ],
         "xaxis": "x3",
         "y": [
          "I-age",
          "I-link",
          "B-birth_date",
          "I-civil_status",
          "B-employer"
         ],
         "yaxis": "y3"
        },
        {
         "name": "▁A",
         "orientation": "h",
         "type": "bar",
         "x": [
          0.6104488968849182,
          0.023664982989430428,
          0.023319730535149574,
          0.022538792341947556,
          0.021803798153996468
         ],
         "xaxis": "x4",
         "y": [
          "B-firstname",
          "B-lob",
          "B-nationality",
          "B-surname_household",
          "B-surname"
         ],
         "yaxis": "y4"
        },
        {
         "name": "dèle",
         "orientation": "h",
         "type": "bar",
         "x": [
          0.605221688747406,
          0.024410108104348183,
          0.023042982444167137,
          0.022927353158593178,
          0.021598681807518005
         ],
         "xaxis": "x5",
         "y": [
          "B-firstname",
          "B-lob",
          "B-surname_household",
          "B-nationality",
          "B-surname"
         ],
         "yaxis": "y5"
        },
        {
         "name": "▁Fille",
         "orientation": "h",
         "type": "bar",
         "x": [
          0.5892490148544312,
          0.03395235538482666,
          0.0264126006513834,
          0.025457309558987617,
          0.024702925235033035
         ],
         "xaxis": "x6",
         "y": [
          "B-link",
          "B-age",
          "B-civil_status",
          "B-occupation",
          "B-lob"
         ],
         "yaxis": "y6"
        },
        {
         "name": "▁française",
         "orientation": "h",
         "type": "bar",
         "x": [
          0.5712444186210632,
          0.02723461017012596,
          0.026959817856550217,
          0.023618707433342934,
          0.023217398673295975
         ],
         "xaxis": "x7",
         "y": [
          "B-nationality",
          "B-firstname",
          "B-occupation",
          "I-lob",
          "B-surname"
         ],
         "yaxis": "y7"
        },
        {
         "name": "▁Din",
         "orientation": "h",
         "type": "bar",
         "x": [
          0.4975818991661072,
          0.032530128955841064,
          0.03193681314587593,
          0.0305158868432045,
          0.03028848208487034
         ],
         "xaxis": "x8",
         "y": [
          "B-lob",
          "B-firstname",
          "B-link",
          "B-surname_household",
          "B-occupation"
         ],
         "yaxis": "y8"
        },
        {
         "name": "an",
         "orientation": "h",
         "type": "bar",
         "x": [
          0.49331414699554443,
          0.03204413875937462,
          0.031830158084630966,
          0.03165150433778763,
          0.03109668381512165
         ],
         "xaxis": "x9",
         "y": [
          "B-lob",
          "B-firstname",
          "B-occupation",
          "B-link",
          "B-surname_household"
         ],
         "yaxis": "y9"
        },
        {
         "name": "▁étudiante",
         "orientation": "h",
         "type": "bar",
         "x": [
          0.577812671661377,
          0.028668373823165894,
          0.028560210019350052,
          0.026775483042001724,
          0.02612823061645031
         ],
         "xaxis": "x10",
         "y": [
          "B-occupation",
          "B-link",
          "B-nationality",
          "B-age",
          "I-occupation"
         ],
         "yaxis": "y10"
        },
        {
         "name": "▁ingénieur",
         "orientation": "h",
         "type": "bar",
         "x": [
          0.3962547183036804,
          0.03958003595471382,
          0.035932399332523346,
          0.03558003529906273,
          0.03183405473828316
         ],
         "xaxis": "x11",
         "y": [
          "I-occupation",
          "B-occupation",
          "B-lob",
          "B-surname",
          "I-link"
         ],
         "yaxis": "y11"
        },
        {
         "name": "▁Moreau",
         "orientation": "h",
         "type": "bar",
         "x": [
          0.5465426445007324,
          0.04010862112045288,
          0.026604821905493736,
          0.02454177662730217,
          0.024334784597158432
         ],
         "xaxis": "x12",
         "y": [
          "B-surname",
          "B-surname_household",
          "B-firstname",
          "B-age",
          "B-link"
         ],
         "yaxis": "y12"
        },
        {
         "name": "</s>",
         "orientation": "h",
         "type": "bar",
         "x": [
          0.07150322943925858,
          0.0643739178776741,
          0.05934115871787071,
          0.05397545173764229,
          0.0516260489821434
         ],
         "xaxis": "x13",
         "y": [
          "B-lob",
          "I-civil_status",
          "I-link",
          "I-firstname",
          "I-occupation"
         ],
         "yaxis": "y13"
        }
       ],
       "layout": {
        "annotations": [
         {
          "font": {
           "size": 16
          },
          "showarrow": false,
          "text": "<s>",
          "x": 0.1175,
          "xanchor": "center",
          "xref": "paper",
          "y": 1,
          "yanchor": "bottom",
          "yref": "paper"
         },
         {
          "font": {
           "size": 16
          },
          "showarrow": false,
          "text": "▁24",
          "x": 0.3725,
          "xanchor": "center",
          "xref": "paper",
          "y": 1,
          "yanchor": "bottom",
          "yref": "paper"
         },
         {
          "font": {
           "size": 16
          },
          "showarrow": false,
          "text": "▁ans",
          "x": 0.6275,
          "xanchor": "center",
          "xref": "paper",
          "y": 1,
          "yanchor": "bottom",
          "yref": "paper"
         },
         {
          "font": {
           "size": 16
          },
          "showarrow": false,
          "text": "▁A",
          "x": 0.8824999999999998,
          "xanchor": "center",
          "xref": "paper",
          "y": 1,
          "yanchor": "bottom",
          "yref": "paper"
         },
         {
          "font": {
           "size": 16
          },
          "showarrow": false,
          "text": "dèle",
          "x": 0.1175,
          "xanchor": "center",
          "xref": "paper",
          "y": 0.71875,
          "yanchor": "bottom",
          "yref": "paper"
         },
         {
          "font": {
           "size": 16
          },
          "showarrow": false,
          "text": "▁Fille",
          "x": 0.3725,
          "xanchor": "center",
          "xref": "paper",
          "y": 0.71875,
          "yanchor": "bottom",
          "yref": "paper"
         },
         {
          "font": {
           "size": 16
          },
          "showarrow": false,
          "text": "▁française",
          "x": 0.6275,
          "xanchor": "center",
          "xref": "paper",
          "y": 0.71875,
          "yanchor": "bottom",
          "yref": "paper"
         },
         {
          "font": {
           "size": 16
          },
          "showarrow": false,
          "text": "▁Din",
          "x": 0.8824999999999998,
          "xanchor": "center",
          "xref": "paper",
          "y": 0.71875,
          "yanchor": "bottom",
          "yref": "paper"
         },
         {
          "font": {
           "size": 16
          },
          "showarrow": false,
          "text": "an",
          "x": 0.1175,
          "xanchor": "center",
          "xref": "paper",
          "y": 0.4375,
          "yanchor": "bottom",
          "yref": "paper"
         },
         {
          "font": {
           "size": 16
          },
          "showarrow": false,
          "text": "▁étudiante",
          "x": 0.3725,
          "xanchor": "center",
          "xref": "paper",
          "y": 0.4375,
          "yanchor": "bottom",
          "yref": "paper"
         },
         {
          "font": {
           "size": 16
          },
          "showarrow": false,
          "text": "▁ingénieur",
          "x": 0.6275,
          "xanchor": "center",
          "xref": "paper",
          "y": 0.4375,
          "yanchor": "bottom",
          "yref": "paper"
         },
         {
          "font": {
           "size": 16
          },
          "showarrow": false,
          "text": "▁Moreau",
          "x": 0.8824999999999998,
          "xanchor": "center",
          "xref": "paper",
          "y": 0.4375,
          "yanchor": "bottom",
          "yref": "paper"
         },
         {
          "font": {
           "size": 16
          },
          "showarrow": false,
          "text": "</s>",
          "x": 0.1175,
          "xanchor": "center",
          "xref": "paper",
          "y": 0.15625,
          "yanchor": "bottom",
          "yref": "paper"
         },
         {
          "font": {
           "size": 13
          },
          "showarrow": false,
          "text": "B-lob",
          "x": 0.07392428815364838,
          "xanchor": "left",
          "xref": "x",
          "y": "B-lob",
          "yref": "y"
         },
         {
          "font": {
           "size": 13
          },
          "showarrow": false,
          "text": "I-civil_status",
          "x": 0.06330372393131256,
          "xanchor": "left",
          "xref": "x",
          "y": "I-civil_status",
          "yref": "y"
         },
         {
          "font": {
           "size": 13
          },
          "showarrow": false,
          "text": "I-link",
          "x": 0.0574764758348465,
          "xanchor": "left",
          "xref": "x",
          "y": "I-link",
          "yref": "y"
         },
         {
          "font": {
           "size": 13
          },
          "showarrow": false,
          "text": "I-occupation",
          "x": 0.0547679178416729,
          "xanchor": "left",
          "xref": "x",
          "y": "I-occupation",
          "yref": "y"
         },
         {
          "font": {
           "size": 13
          },
          "showarrow": false,
          "text": "I-firstname",
          "x": 0.05331329628825188,
          "xanchor": "left",
          "xref": "x",
          "y": "I-firstname",
          "yref": "y"
         },
         {
          "font": {
           "size": 13
          },
          "showarrow": false,
          "text": "B-age",
          "x": 0.560065746307373,
          "xanchor": "left",
          "xref": "x2",
          "y": "B-age",
          "yref": "y2"
         },
         {
          "font": {
           "size": 13
          },
          "showarrow": false,
          "text": "B-link",
          "x": 0.0353427417576313,
          "xanchor": "left",
          "xref": "x2",
          "y": "B-link",
          "yref": "y2"
         },
         {
          "font": {
           "size": 13
          },
          "showarrow": false,
          "text": "B-occupation",
          "x": 0.0269984882324934,
          "xanchor": "left",
          "xref": "x2",
          "y": "B-occupation",
          "yref": "y2"
         },
         {
          "font": {
           "size": 13
          },
          "showarrow": false,
          "text": "B-firstname",
          "x": 0.02446143329143524,
          "xanchor": "left",
          "xref": "x2",
          "y": "B-firstname",
          "yref": "y2"
         },
         {
          "font": {
           "size": 13
          },
          "showarrow": false,
          "text": "I-link",
          "x": 0.02388506755232811,
          "xanchor": "left",
          "xref": "x2",
          "y": "I-link",
          "yref": "y2"
         },
         {
          "font": {
           "size": 13
          },
          "showarrow": false,
          "text": "I-age",
          "x": 0.23494750261306763,
          "xanchor": "left",
          "xref": "x3",
          "y": "I-age",
          "yref": "y3"
         },
         {
          "font": {
           "size": 13
          },
          "showarrow": false,
          "text": "I-link",
          "x": 0.05236358940601349,
          "xanchor": "left",
          "xref": "x3",
          "y": "I-link",
          "yref": "y3"
         },
         {
          "font": {
           "size": 13
          },
          "showarrow": false,
          "text": "B-birth_date",
          "x": 0.051758356392383575,
          "xanchor": "left",
          "xref": "x3",
          "y": "B-birth_date",
          "yref": "y3"
         },
         {
          "font": {
           "size": 13
          },
          "showarrow": false,
          "text": "I-civil_status",
          "x": 0.050767187029123306,
          "xanchor": "left",
          "xref": "x3",
          "y": "I-civil_status",
          "yref": "y3"
         },
         {
          "font": {
           "size": 13
          },
          "showarrow": false,
          "text": "B-employer",
          "x": 0.0454331636428833,
          "xanchor": "left",
          "xref": "x3",
          "y": "B-employer",
          "yref": "y3"
         },
         {
          "font": {
           "size": 13
          },
          "showarrow": false,
          "text": "B-firstname",
          "x": 0.6104488968849182,
          "xanchor": "left",
          "xref": "x4",
          "y": "B-firstname",
          "yref": "y4"
         },
         {
          "font": {
           "size": 13
          },
          "showarrow": false,
          "text": "B-lob",
          "x": 0.023664982989430428,
          "xanchor": "left",
          "xref": "x4",
          "y": "B-lob",
          "yref": "y4"
         },
         {
          "font": {
           "size": 13
          },
          "showarrow": false,
          "text": "B-nationality",
          "x": 0.023319730535149574,
          "xanchor": "left",
          "xref": "x4",
          "y": "B-nationality",
          "yref": "y4"
         },
         {
          "font": {
           "size": 13
          },
          "showarrow": false,
          "text": "B-surname_household",
          "x": 0.022538792341947556,
          "xanchor": "left",
          "xref": "x4",
          "y": "B-surname_household",
          "yref": "y4"
         },
         {
          "font": {
           "size": 13
          },
          "showarrow": false,
          "text": "B-surname",
          "x": 0.021803798153996468,
          "xanchor": "left",
          "xref": "x4",
          "y": "B-surname",
          "yref": "y4"
         },
         {
          "font": {
           "size": 13
          },
          "showarrow": false,
          "text": "B-firstname",
          "x": 0.605221688747406,
          "xanchor": "left",
          "xref": "x5",
          "y": "B-firstname",
          "yref": "y5"
         },
         {
          "font": {
           "size": 13
          },
          "showarrow": false,
          "text": "B-lob",
          "x": 0.024410108104348183,
          "xanchor": "left",
          "xref": "x5",
          "y": "B-lob",
          "yref": "y5"
         },
         {
          "font": {
           "size": 13
          },
          "showarrow": false,
          "text": "B-surname_household",
          "x": 0.023042982444167137,
          "xanchor": "left",
          "xref": "x5",
          "y": "B-surname_household",
          "yref": "y5"
         },
         {
          "font": {
           "size": 13
          },
          "showarrow": false,
          "text": "B-nationality",
          "x": 0.022927353158593178,
          "xanchor": "left",
          "xref": "x5",
          "y": "B-nationality",
          "yref": "y5"
         },
         {
          "font": {
           "size": 13
          },
          "showarrow": false,
          "text": "B-surname",
          "x": 0.021598681807518005,
          "xanchor": "left",
          "xref": "x5",
          "y": "B-surname",
          "yref": "y5"
         },
         {
          "font": {
           "size": 13
          },
          "showarrow": false,
          "text": "B-link",
          "x": 0.5892490148544312,
          "xanchor": "left",
          "xref": "x6",
          "y": "B-link",
          "yref": "y6"
         },
         {
          "font": {
           "size": 13
          },
          "showarrow": false,
          "text": "B-age",
          "x": 0.03395235538482666,
          "xanchor": "left",
          "xref": "x6",
          "y": "B-age",
          "yref": "y6"
         },
         {
          "font": {
           "size": 13
          },
          "showarrow": false,
          "text": "B-civil_status",
          "x": 0.0264126006513834,
          "xanchor": "left",
          "xref": "x6",
          "y": "B-civil_status",
          "yref": "y6"
         },
         {
          "font": {
           "size": 13
          },
          "showarrow": false,
          "text": "B-occupation",
          "x": 0.025457309558987617,
          "xanchor": "left",
          "xref": "x6",
          "y": "B-occupation",
          "yref": "y6"
         },
         {
          "font": {
           "size": 13
          },
          "showarrow": false,
          "text": "B-lob",
          "x": 0.024702925235033035,
          "xanchor": "left",
          "xref": "x6",
          "y": "B-lob",
          "yref": "y6"
         },
         {
          "font": {
           "size": 13
          },
          "showarrow": false,
          "text": "B-nationality",
          "x": 0.5712444186210632,
          "xanchor": "left",
          "xref": "x7",
          "y": "B-nationality",
          "yref": "y7"
         },
         {
          "font": {
           "size": 13
          },
          "showarrow": false,
          "text": "B-firstname",
          "x": 0.02723461017012596,
          "xanchor": "left",
          "xref": "x7",
          "y": "B-firstname",
          "yref": "y7"
         },
         {
          "font": {
           "size": 13
          },
          "showarrow": false,
          "text": "B-occupation",
          "x": 0.026959817856550217,
          "xanchor": "left",
          "xref": "x7",
          "y": "B-occupation",
          "yref": "y7"
         },
         {
          "font": {
           "size": 13
          },
          "showarrow": false,
          "text": "I-lob",
          "x": 0.023618707433342934,
          "xanchor": "left",
          "xref": "x7",
          "y": "I-lob",
          "yref": "y7"
         },
         {
          "font": {
           "size": 13
          },
          "showarrow": false,
          "text": "B-surname",
          "x": 0.023217398673295975,
          "xanchor": "left",
          "xref": "x7",
          "y": "B-surname",
          "yref": "y7"
         },
         {
          "font": {
           "size": 13
          },
          "showarrow": false,
          "text": "B-lob",
          "x": 0.4975818991661072,
          "xanchor": "left",
          "xref": "x8",
          "y": "B-lob",
          "yref": "y8"
         },
         {
          "font": {
           "size": 13
          },
          "showarrow": false,
          "text": "B-firstname",
          "x": 0.032530128955841064,
          "xanchor": "left",
          "xref": "x8",
          "y": "B-firstname",
          "yref": "y8"
         },
         {
          "font": {
           "size": 13
          },
          "showarrow": false,
          "text": "B-link",
          "x": 0.03193681314587593,
          "xanchor": "left",
          "xref": "x8",
          "y": "B-link",
          "yref": "y8"
         },
         {
          "font": {
           "size": 13
          },
          "showarrow": false,
          "text": "B-surname_household",
          "x": 0.0305158868432045,
          "xanchor": "left",
          "xref": "x8",
          "y": "B-surname_household",
          "yref": "y8"
         },
         {
          "font": {
           "size": 13
          },
          "showarrow": false,
          "text": "B-occupation",
          "x": 0.03028848208487034,
          "xanchor": "left",
          "xref": "x8",
          "y": "B-occupation",
          "yref": "y8"
         },
         {
          "font": {
           "size": 13
          },
          "showarrow": false,
          "text": "B-lob",
          "x": 0.49331414699554443,
          "xanchor": "left",
          "xref": "x9",
          "y": "B-lob",
          "yref": "y9"
         },
         {
          "font": {
           "size": 13
          },
          "showarrow": false,
          "text": "B-firstname",
          "x": 0.03204413875937462,
          "xanchor": "left",
          "xref": "x9",
          "y": "B-firstname",
          "yref": "y9"
         },
         {
          "font": {
           "size": 13
          },
          "showarrow": false,
          "text": "B-occupation",
          "x": 0.031830158084630966,
          "xanchor": "left",
          "xref": "x9",
          "y": "B-occupation",
          "yref": "y9"
         },
         {
          "font": {
           "size": 13
          },
          "showarrow": false,
          "text": "B-link",
          "x": 0.03165150433778763,
          "xanchor": "left",
          "xref": "x9",
          "y": "B-link",
          "yref": "y9"
         },
         {
          "font": {
           "size": 13
          },
          "showarrow": false,
          "text": "B-surname_household",
          "x": 0.03109668381512165,
          "xanchor": "left",
          "xref": "x9",
          "y": "B-surname_household",
          "yref": "y9"
         },
         {
          "font": {
           "size": 13
          },
          "showarrow": false,
          "text": "B-occupation",
          "x": 0.577812671661377,
          "xanchor": "left",
          "xref": "x10",
          "y": "B-occupation",
          "yref": "y10"
         },
         {
          "font": {
           "size": 13
          },
          "showarrow": false,
          "text": "B-link",
          "x": 0.028668373823165894,
          "xanchor": "left",
          "xref": "x10",
          "y": "B-link",
          "yref": "y10"
         },
         {
          "font": {
           "size": 13
          },
          "showarrow": false,
          "text": "B-nationality",
          "x": 0.028560210019350052,
          "xanchor": "left",
          "xref": "x10",
          "y": "B-nationality",
          "yref": "y10"
         },
         {
          "font": {
           "size": 13
          },
          "showarrow": false,
          "text": "B-age",
          "x": 0.026775483042001724,
          "xanchor": "left",
          "xref": "x10",
          "y": "B-age",
          "yref": "y10"
         },
         {
          "font": {
           "size": 13
          },
          "showarrow": false,
          "text": "I-occupation",
          "x": 0.02612823061645031,
          "xanchor": "left",
          "xref": "x10",
          "y": "I-occupation",
          "yref": "y10"
         },
         {
          "font": {
           "size": 13
          },
          "showarrow": false,
          "text": "I-occupation",
          "x": 0.3962547183036804,
          "xanchor": "left",
          "xref": "x11",
          "y": "I-occupation",
          "yref": "y11"
         },
         {
          "font": {
           "size": 13
          },
          "showarrow": false,
          "text": "B-occupation",
          "x": 0.03958003595471382,
          "xanchor": "left",
          "xref": "x11",
          "y": "B-occupation",
          "yref": "y11"
         },
         {
          "font": {
           "size": 13
          },
          "showarrow": false,
          "text": "B-lob",
          "x": 0.035932399332523346,
          "xanchor": "left",
          "xref": "x11",
          "y": "B-lob",
          "yref": "y11"
         },
         {
          "font": {
           "size": 13
          },
          "showarrow": false,
          "text": "B-surname",
          "x": 0.03558003529906273,
          "xanchor": "left",
          "xref": "x11",
          "y": "B-surname",
          "yref": "y11"
         },
         {
          "font": {
           "size": 13
          },
          "showarrow": false,
          "text": "I-link",
          "x": 0.03183405473828316,
          "xanchor": "left",
          "xref": "x11",
          "y": "I-link",
          "yref": "y11"
         },
         {
          "font": {
           "size": 13
          },
          "showarrow": false,
          "text": "B-surname",
          "x": 0.5465426445007324,
          "xanchor": "left",
          "xref": "x12",
          "y": "B-surname",
          "yref": "y12"
         },
         {
          "font": {
           "size": 13
          },
          "showarrow": false,
          "text": "B-surname_household",
          "x": 0.04010862112045288,
          "xanchor": "left",
          "xref": "x12",
          "y": "B-surname_household",
          "yref": "y12"
         },
         {
          "font": {
           "size": 13
          },
          "showarrow": false,
          "text": "B-firstname",
          "x": 0.026604821905493736,
          "xanchor": "left",
          "xref": "x12",
          "y": "B-firstname",
          "yref": "y12"
         },
         {
          "font": {
           "size": 13
          },
          "showarrow": false,
          "text": "B-age",
          "x": 0.02454177662730217,
          "xanchor": "left",
          "xref": "x12",
          "y": "B-age",
          "yref": "y12"
         },
         {
          "font": {
           "size": 13
          },
          "showarrow": false,
          "text": "B-link",
          "x": 0.024334784597158432,
          "xanchor": "left",
          "xref": "x12",
          "y": "B-link",
          "yref": "y12"
         },
         {
          "font": {
           "size": 13
          },
          "showarrow": false,
          "text": "B-lob",
          "x": 0.07150322943925858,
          "xanchor": "left",
          "xref": "x13",
          "y": "B-lob",
          "yref": "y13"
         },
         {
          "font": {
           "size": 13
          },
          "showarrow": false,
          "text": "I-civil_status",
          "x": 0.0643739178776741,
          "xanchor": "left",
          "xref": "x13",
          "y": "I-civil_status",
          "yref": "y13"
         },
         {
          "font": {
           "size": 13
          },
          "showarrow": false,
          "text": "I-link",
          "x": 0.05934115871787071,
          "xanchor": "left",
          "xref": "x13",
          "y": "I-link",
          "yref": "y13"
         },
         {
          "font": {
           "size": 13
          },
          "showarrow": false,
          "text": "I-firstname",
          "x": 0.05397545173764229,
          "xanchor": "left",
          "xref": "x13",
          "y": "I-firstname",
          "yref": "y13"
         },
         {
          "font": {
           "size": 13
          },
          "showarrow": false,
          "text": "I-occupation",
          "x": 0.0516260489821434,
          "xanchor": "left",
          "xref": "x13",
          "y": "I-occupation",
          "yref": "y13"
         }
        ],
        "font": {
         "size": 14
        },
        "height": 1000,
        "showlegend": false,
        "template": {
         "data": {
          "bar": [
           {
            "error_x": {
             "color": "#2a3f5f"
            },
            "error_y": {
             "color": "#2a3f5f"
            },
            "marker": {
             "line": {
              "color": "#E5ECF6",
              "width": 0.5
             },
             "pattern": {
              "fillmode": "overlay",
              "size": 10,
              "solidity": 0.2
             }
            },
            "type": "bar"
           }
          ],
          "barpolar": [
           {
            "marker": {
             "line": {
              "color": "#E5ECF6",
              "width": 0.5
             },
             "pattern": {
              "fillmode": "overlay",
              "size": 10,
              "solidity": 0.2
             }
            },
            "type": "barpolar"
           }
          ],
          "carpet": [
           {
            "aaxis": {
             "endlinecolor": "#2a3f5f",
             "gridcolor": "white",
             "linecolor": "white",
             "minorgridcolor": "white",
             "startlinecolor": "#2a3f5f"
            },
            "baxis": {
             "endlinecolor": "#2a3f5f",
             "gridcolor": "white",
             "linecolor": "white",
             "minorgridcolor": "white",
             "startlinecolor": "#2a3f5f"
            },
            "type": "carpet"
           }
          ],
          "choropleth": [
           {
            "colorbar": {
             "outlinewidth": 0,
             "ticks": ""
            },
            "type": "choropleth"
           }
          ],
          "contour": [
           {
            "colorbar": {
             "outlinewidth": 0,
             "ticks": ""
            },
            "colorscale": [
             [
              0,
              "#0d0887"
             ],
             [
              0.1111111111111111,
              "#46039f"
             ],
             [
              0.2222222222222222,
              "#7201a8"
             ],
             [
              0.3333333333333333,
              "#9c179e"
             ],
             [
              0.4444444444444444,
              "#bd3786"
             ],
             [
              0.5555555555555556,
              "#d8576b"
             ],
             [
              0.6666666666666666,
              "#ed7953"
             ],
             [
              0.7777777777777778,
              "#fb9f3a"
             ],
             [
              0.8888888888888888,
              "#fdca26"
             ],
             [
              1,
              "#f0f921"
             ]
            ],
            "type": "contour"
           }
          ],
          "contourcarpet": [
           {
            "colorbar": {
             "outlinewidth": 0,
             "ticks": ""
            },
            "type": "contourcarpet"
           }
          ],
          "heatmap": [
           {
            "colorbar": {
             "outlinewidth": 0,
             "ticks": ""
            },
            "colorscale": [
             [
              0,
              "#0d0887"
             ],
             [
              0.1111111111111111,
              "#46039f"
             ],
             [
              0.2222222222222222,
              "#7201a8"
             ],
             [
              0.3333333333333333,
              "#9c179e"
             ],
             [
              0.4444444444444444,
              "#bd3786"
             ],
             [
              0.5555555555555556,
              "#d8576b"
             ],
             [
              0.6666666666666666,
              "#ed7953"
             ],
             [
              0.7777777777777778,
              "#fb9f3a"
             ],
             [
              0.8888888888888888,
              "#fdca26"
             ],
             [
              1,
              "#f0f921"
             ]
            ],
            "type": "heatmap"
           }
          ],
          "heatmapgl": [
           {
            "colorbar": {
             "outlinewidth": 0,
             "ticks": ""
            },
            "colorscale": [
             [
              0,
              "#0d0887"
             ],
             [
              0.1111111111111111,
              "#46039f"
             ],
             [
              0.2222222222222222,
              "#7201a8"
             ],
             [
              0.3333333333333333,
              "#9c179e"
             ],
             [
              0.4444444444444444,
              "#bd3786"
             ],
             [
              0.5555555555555556,
              "#d8576b"
             ],
             [
              0.6666666666666666,
              "#ed7953"
             ],
             [
              0.7777777777777778,
              "#fb9f3a"
             ],
             [
              0.8888888888888888,
              "#fdca26"
             ],
             [
              1,
              "#f0f921"
             ]
            ],
            "type": "heatmapgl"
           }
          ],
          "histogram": [
           {
            "marker": {
             "pattern": {
              "fillmode": "overlay",
              "size": 10,
              "solidity": 0.2
             }
            },
            "type": "histogram"
           }
          ],
          "histogram2d": [
           {
            "colorbar": {
             "outlinewidth": 0,
             "ticks": ""
            },
            "colorscale": [
             [
              0,
              "#0d0887"
             ],
             [
              0.1111111111111111,
              "#46039f"
             ],
             [
              0.2222222222222222,
              "#7201a8"
             ],
             [
              0.3333333333333333,
              "#9c179e"
             ],
             [
              0.4444444444444444,
              "#bd3786"
             ],
             [
              0.5555555555555556,
              "#d8576b"
             ],
             [
              0.6666666666666666,
              "#ed7953"
             ],
             [
              0.7777777777777778,
              "#fb9f3a"
             ],
             [
              0.8888888888888888,
              "#fdca26"
             ],
             [
              1,
              "#f0f921"
             ]
            ],
            "type": "histogram2d"
           }
          ],
          "histogram2dcontour": [
           {
            "colorbar": {
             "outlinewidth": 0,
             "ticks": ""
            },
            "colorscale": [
             [
              0,
              "#0d0887"
             ],
             [
              0.1111111111111111,
              "#46039f"
             ],
             [
              0.2222222222222222,
              "#7201a8"
             ],
             [
              0.3333333333333333,
              "#9c179e"
             ],
             [
              0.4444444444444444,
              "#bd3786"
             ],
             [
              0.5555555555555556,
              "#d8576b"
             ],
             [
              0.6666666666666666,
              "#ed7953"
             ],
             [
              0.7777777777777778,
              "#fb9f3a"
             ],
             [
              0.8888888888888888,
              "#fdca26"
             ],
             [
              1,
              "#f0f921"
             ]
            ],
            "type": "histogram2dcontour"
           }
          ],
          "mesh3d": [
           {
            "colorbar": {
             "outlinewidth": 0,
             "ticks": ""
            },
            "type": "mesh3d"
           }
          ],
          "parcoords": [
           {
            "line": {
             "colorbar": {
              "outlinewidth": 0,
              "ticks": ""
             }
            },
            "type": "parcoords"
           }
          ],
          "pie": [
           {
            "automargin": true,
            "type": "pie"
           }
          ],
          "scatter": [
           {
            "fillpattern": {
             "fillmode": "overlay",
             "size": 10,
             "solidity": 0.2
            },
            "type": "scatter"
           }
          ],
          "scatter3d": [
           {
            "line": {
             "colorbar": {
              "outlinewidth": 0,
              "ticks": ""
             }
            },
            "marker": {
             "colorbar": {
              "outlinewidth": 0,
              "ticks": ""
             }
            },
            "type": "scatter3d"
           }
          ],
          "scattercarpet": [
           {
            "marker": {
             "colorbar": {
              "outlinewidth": 0,
              "ticks": ""
             }
            },
            "type": "scattercarpet"
           }
          ],
          "scattergeo": [
           {
            "marker": {
             "colorbar": {
              "outlinewidth": 0,
              "ticks": ""
             }
            },
            "type": "scattergeo"
           }
          ],
          "scattergl": [
           {
            "marker": {
             "colorbar": {
              "outlinewidth": 0,
              "ticks": ""
             }
            },
            "type": "scattergl"
           }
          ],
          "scattermapbox": [
           {
            "marker": {
             "colorbar": {
              "outlinewidth": 0,
              "ticks": ""
             }
            },
            "type": "scattermapbox"
           }
          ],
          "scatterpolar": [
           {
            "marker": {
             "colorbar": {
              "outlinewidth": 0,
              "ticks": ""
             }
            },
            "type": "scatterpolar"
           }
          ],
          "scatterpolargl": [
           {
            "marker": {
             "colorbar": {
              "outlinewidth": 0,
              "ticks": ""
             }
            },
            "type": "scatterpolargl"
           }
          ],
          "scatterternary": [
           {
            "marker": {
             "colorbar": {
              "outlinewidth": 0,
              "ticks": ""
             }
            },
            "type": "scatterternary"
           }
          ],
          "surface": [
           {
            "colorbar": {
             "outlinewidth": 0,
             "ticks": ""
            },
            "colorscale": [
             [
              0,
              "#0d0887"
             ],
             [
              0.1111111111111111,
              "#46039f"
             ],
             [
              0.2222222222222222,
              "#7201a8"
             ],
             [
              0.3333333333333333,
              "#9c179e"
             ],
             [
              0.4444444444444444,
              "#bd3786"
             ],
             [
              0.5555555555555556,
              "#d8576b"
             ],
             [
              0.6666666666666666,
              "#ed7953"
             ],
             [
              0.7777777777777778,
              "#fb9f3a"
             ],
             [
              0.8888888888888888,
              "#fdca26"
             ],
             [
              1,
              "#f0f921"
             ]
            ],
            "type": "surface"
           }
          ],
          "table": [
           {
            "cells": {
             "fill": {
              "color": "#EBF0F8"
             },
             "line": {
              "color": "white"
             }
            },
            "header": {
             "fill": {
              "color": "#C8D4E3"
             },
             "line": {
              "color": "white"
             }
            },
            "type": "table"
           }
          ]
         },
         "layout": {
          "annotationdefaults": {
           "arrowcolor": "#2a3f5f",
           "arrowhead": 0,
           "arrowwidth": 1
          },
          "autotypenumbers": "strict",
          "coloraxis": {
           "colorbar": {
            "outlinewidth": 0,
            "ticks": ""
           }
          },
          "colorscale": {
           "diverging": [
            [
             0,
             "#8e0152"
            ],
            [
             0.1,
             "#c51b7d"
            ],
            [
             0.2,
             "#de77ae"
            ],
            [
             0.3,
             "#f1b6da"
            ],
            [
             0.4,
             "#fde0ef"
            ],
            [
             0.5,
             "#f7f7f7"
            ],
            [
             0.6,
             "#e6f5d0"
            ],
            [
             0.7,
             "#b8e186"
            ],
            [
             0.8,
             "#7fbc41"
            ],
            [
             0.9,
             "#4d9221"
            ],
            [
             1,
             "#276419"
            ]
           ],
           "sequential": [
            [
             0,
             "#0d0887"
            ],
            [
             0.1111111111111111,
             "#46039f"
            ],
            [
             0.2222222222222222,
             "#7201a8"
            ],
            [
             0.3333333333333333,
             "#9c179e"
            ],
            [
             0.4444444444444444,
             "#bd3786"
            ],
            [
             0.5555555555555556,
             "#d8576b"
            ],
            [
             0.6666666666666666,
             "#ed7953"
            ],
            [
             0.7777777777777778,
             "#fb9f3a"
            ],
            [
             0.8888888888888888,
             "#fdca26"
            ],
            [
             1,
             "#f0f921"
            ]
           ],
           "sequentialminus": [
            [
             0,
             "#0d0887"
            ],
            [
             0.1111111111111111,
             "#46039f"
            ],
            [
             0.2222222222222222,
             "#7201a8"
            ],
            [
             0.3333333333333333,
             "#9c179e"
            ],
            [
             0.4444444444444444,
             "#bd3786"
            ],
            [
             0.5555555555555556,
             "#d8576b"
            ],
            [
             0.6666666666666666,
             "#ed7953"
            ],
            [
             0.7777777777777778,
             "#fb9f3a"
            ],
            [
             0.8888888888888888,
             "#fdca26"
            ],
            [
             1,
             "#f0f921"
            ]
           ]
          },
          "colorway": [
           "#636efa",
           "#EF553B",
           "#00cc96",
           "#ab63fa",
           "#FFA15A",
           "#19d3f3",
           "#FF6692",
           "#B6E880",
           "#FF97FF",
           "#FECB52"
          ],
          "font": {
           "color": "#2a3f5f"
          },
          "geo": {
           "bgcolor": "white",
           "lakecolor": "white",
           "landcolor": "#E5ECF6",
           "showlakes": true,
           "showland": true,
           "subunitcolor": "white"
          },
          "hoverlabel": {
           "align": "left"
          },
          "hovermode": "closest",
          "mapbox": {
           "style": "light"
          },
          "paper_bgcolor": "white",
          "plot_bgcolor": "#E5ECF6",
          "polar": {
           "angularaxis": {
            "gridcolor": "white",
            "linecolor": "white",
            "ticks": ""
           },
           "bgcolor": "#E5ECF6",
           "radialaxis": {
            "gridcolor": "white",
            "linecolor": "white",
            "ticks": ""
           }
          },
          "scene": {
           "xaxis": {
            "backgroundcolor": "#E5ECF6",
            "gridcolor": "white",
            "gridwidth": 2,
            "linecolor": "white",
            "showbackground": true,
            "ticks": "",
            "zerolinecolor": "white"
           },
           "yaxis": {
            "backgroundcolor": "#E5ECF6",
            "gridcolor": "white",
            "gridwidth": 2,
            "linecolor": "white",
            "showbackground": true,
            "ticks": "",
            "zerolinecolor": "white"
           },
           "zaxis": {
            "backgroundcolor": "#E5ECF6",
            "gridcolor": "white",
            "gridwidth": 2,
            "linecolor": "white",
            "showbackground": true,
            "ticks": "",
            "zerolinecolor": "white"
           }
          },
          "shapedefaults": {
           "line": {
            "color": "#2a3f5f"
           }
          },
          "ternary": {
           "aaxis": {
            "gridcolor": "white",
            "linecolor": "white",
            "ticks": ""
           },
           "baxis": {
            "gridcolor": "white",
            "linecolor": "white",
            "ticks": ""
           },
           "bgcolor": "#E5ECF6",
           "caxis": {
            "gridcolor": "white",
            "linecolor": "white",
            "ticks": ""
           }
          },
          "title": {
           "x": 0.05
          },
          "xaxis": {
           "automargin": true,
           "gridcolor": "white",
           "linecolor": "white",
           "ticks": "",
           "title": {
            "standoff": 15
           },
           "zerolinecolor": "white",
           "zerolinewidth": 2
          },
          "yaxis": {
           "automargin": true,
           "gridcolor": "white",
           "linecolor": "white",
           "ticks": "",
           "title": {
            "standoff": 15
           },
           "zerolinecolor": "white",
           "zerolinewidth": 2
          }
         }
        },
        "title": {
         "font": {
          "size": 16
         }
        },
        "width": 1000,
        "xaxis": {
         "anchor": "y",
         "domain": [
          0,
          0.235
         ]
        },
        "xaxis10": {
         "anchor": "y10",
         "domain": [
          0.255,
          0.49
         ]
        },
        "xaxis11": {
         "anchor": "y11",
         "domain": [
          0.51,
          0.745
         ]
        },
        "xaxis12": {
         "anchor": "y12",
         "domain": [
          0.7649999999999999,
          0.9999999999999999
         ]
        },
        "xaxis13": {
         "anchor": "y13",
         "domain": [
          0,
          0.235
         ]
        },
        "xaxis14": {
         "anchor": "y14",
         "domain": [
          0.255,
          0.49
         ]
        },
        "xaxis15": {
         "anchor": "y15",
         "domain": [
          0.51,
          0.745
         ]
        },
        "xaxis16": {
         "anchor": "y16",
         "domain": [
          0.7649999999999999,
          0.9999999999999999
         ]
        },
        "xaxis2": {
         "anchor": "y2",
         "domain": [
          0.255,
          0.49
         ]
        },
        "xaxis3": {
         "anchor": "y3",
         "domain": [
          0.51,
          0.745
         ]
        },
        "xaxis4": {
         "anchor": "y4",
         "domain": [
          0.7649999999999999,
          0.9999999999999999
         ]
        },
        "xaxis5": {
         "anchor": "y5",
         "domain": [
          0,
          0.235
         ]
        },
        "xaxis6": {
         "anchor": "y6",
         "domain": [
          0.255,
          0.49
         ]
        },
        "xaxis7": {
         "anchor": "y7",
         "domain": [
          0.51,
          0.745
         ]
        },
        "xaxis8": {
         "anchor": "y8",
         "domain": [
          0.7649999999999999,
          0.9999999999999999
         ]
        },
        "xaxis9": {
         "anchor": "y9",
         "domain": [
          0,
          0.235
         ]
        },
        "yaxis": {
         "anchor": "x",
         "domain": [
          0.84375,
          1
         ],
         "showticklabels": false
        },
        "yaxis10": {
         "anchor": "x10",
         "domain": [
          0.28125,
          0.4375
         ],
         "showticklabels": false
        },
        "yaxis11": {
         "anchor": "x11",
         "domain": [
          0.28125,
          0.4375
         ],
         "showticklabels": false
        },
        "yaxis12": {
         "anchor": "x12",
         "domain": [
          0.28125,
          0.4375
         ],
         "showticklabels": false
        },
        "yaxis13": {
         "anchor": "x13",
         "domain": [
          0,
          0.15625
         ],
         "showticklabels": false
        },
        "yaxis14": {
         "anchor": "x14",
         "domain": [
          0,
          0.15625
         ],
         "showticklabels": false
        },
        "yaxis15": {
         "anchor": "x15",
         "domain": [
          0,
          0.15625
         ],
         "showticklabels": false
        },
        "yaxis16": {
         "anchor": "x16",
         "domain": [
          0,
          0.15625
         ],
         "showticklabels": false
        },
        "yaxis2": {
         "anchor": "x2",
         "domain": [
          0.84375,
          1
         ],
         "showticklabels": false
        },
        "yaxis3": {
         "anchor": "x3",
         "domain": [
          0.84375,
          1
         ],
         "showticklabels": false
        },
        "yaxis4": {
         "anchor": "x4",
         "domain": [
          0.84375,
          1
         ],
         "showticklabels": false
        },
        "yaxis5": {
         "anchor": "x5",
         "domain": [
          0.5625,
          0.71875
         ],
         "showticklabels": false
        },
        "yaxis6": {
         "anchor": "x6",
         "domain": [
          0.5625,
          0.71875
         ],
         "showticklabels": false
        },
        "yaxis7": {
         "anchor": "x7",
         "domain": [
          0.5625,
          0.71875
         ],
         "showticklabels": false
        },
        "yaxis8": {
         "anchor": "x8",
         "domain": [
          0.5625,
          0.71875
         ],
         "showticklabels": false
        },
        "yaxis9": {
         "anchor": "x9",
         "domain": [
          0.28125,
          0.4375
         ],
         "showticklabels": false
        }
       }
      }
     },
     "metadata": {},
     "output_type": "display_data"
    }
   ],
   "source": [
    "# Assuming tokenizer, inputs, torch, probas, and id2tag are defined\n",
    "tokens = tokenizer.convert_ids_to_tokens(inputs['input_ids'][0])\n",
    "N = len(tokens)\n",
    "cols_per_row = 4\n",
    "rows = -(-N // cols_per_row)\n",
    "\n",
    "fig = make_subplots(rows=rows, cols=cols_per_row, subplot_titles=tokens, horizontal_spacing=0.02)\n",
    "\n",
    "for token_index in range(N):\n",
    "    top_categories = torch.topk(probas[0, token_index, :], 5).indices.tolist()\n",
    "    top_probs = torch.topk(probas[0, token_index, :], 5).values.tolist()\n",
    "    category_labels = [id2tag[i] for i in top_categories]\n",
    "    token_name = tokens[token_index]\n",
    "\n",
    "    row = token_index // cols_per_row + 1\n",
    "    col = token_index % cols_per_row + 1\n",
    "\n",
    "    bar = go.Bar(x=top_probs, y=category_labels, orientation='h', name=token_name)\n",
    "    fig.add_trace(bar, row=row, col=col)\n",
    "\n",
    "    # Add annotations for each category label at the end of the bars\n",
    "    for i, (prob, label) in enumerate(zip(top_probs, category_labels)):\n",
    "        fig.add_annotation(x=prob, y=label, text=label, showarrow=False, xanchor='left', row=row, col=col, font=dict(size=13))\n",
    "\n",
    "# Hide y-axis labels for all subplots\n",
    "for r in range(1, rows+1):\n",
    "    for c in range(1, cols_per_row+1):\n",
    "        fig.update_yaxes(showticklabels=False, row=r, col=c)\n",
    "        \n",
    "fig.update_layout(height=250*rows, width=1000, showlegend=False, font=dict(size=14), title_font_size=16)\n",
    "fig.show()\n"
   ]
  },
  {
   "cell_type": "code",
   "execution_count": null,
   "metadata": {},
   "outputs": [],
   "source": []
  },
  {
   "cell_type": "code",
   "execution_count": null,
   "metadata": {},
   "outputs": [],
   "source": []
  }
 ],
 "metadata": {
  "kernelspec": {
   "display_name": ".venv",
   "language": "python",
   "name": "python3"
  },
  "language_info": {
   "codemirror_mode": {
    "name": "ipython",
    "version": 3
   },
   "file_extension": ".py",
   "mimetype": "text/x-python",
   "name": "python",
   "nbconvert_exporter": "python",
   "pygments_lexer": "ipython3",
   "version": "3.9.6"
  }
 },
 "nbformat": 4,
 "nbformat_minor": 2
}
