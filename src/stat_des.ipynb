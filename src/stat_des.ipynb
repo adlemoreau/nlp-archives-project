{
 "cells": [
  {
   "cell_type": "code",
   "execution_count": 272,
   "metadata": {},
   "outputs": [],
   "source": [
    "import pandas as pd\n",
    "import yaml\n",
    "import re\n",
    "import torch\n",
    "import numpy as np\n",
    "from sklearn.model_selection import train_test_split\n",
    "from transformers import DistilBertTokenizerFast\n",
    "from transformers import DistilBertForTokenClassification"
   ]
  },
  {
   "cell_type": "markdown",
   "metadata": {},
   "source": [
    "### Build ground truth dataframe"
   ]
  },
  {
   "cell_type": "code",
   "execution_count": 177,
   "metadata": {},
   "outputs": [],
   "source": [
    "def load_df(file_path):\n",
    "    df = pd.read_json(file_path, orient='index', )\n",
    "    df.rename(columns={df.columns[0]: 'Information'}, inplace=True)\n",
    "    return df\n",
    "\n",
    "def load_tags(file_path):\n",
    "    with open(file_path, 'r') as file:\n",
    "        tags = yaml.safe_load(file)\n",
    "    return tags"
   ]
  },
  {
   "cell_type": "code",
   "execution_count": 178,
   "metadata": {},
   "outputs": [],
   "source": [
    "def create_dict_tags(input_dict):\n",
    "    # Initialize an empty dictionary to hold the tags and their corresponding categories\n",
    "    tags_categories = {}\n",
    "    \n",
    "    # Iterate over the input dictionary to extract the start markers and their corresponding categories\n",
    "    for category, markers in input_dict.items():\n",
    "        # Assign the start marker as the key and the category name as the value in the tags_categories dictionary\n",
    "        tags_categories[markers['start']] = category\n",
    "    \n",
    "    return tags_categories"
   ]
  },
  {
   "cell_type": "code",
   "execution_count": 179,
   "metadata": {},
   "outputs": [],
   "source": [
    "def create_list_tags(input_dict):\n",
    "    tags_symbols = []\n",
    "    for category in input_dict:\n",
    "        tags_symbols.append(input_dict[category]['start'])\n",
    "    return tags_symbols"
   ]
  },
  {
   "cell_type": "code",
   "execution_count": 180,
   "metadata": {},
   "outputs": [],
   "source": [
    "def classify_entry(entry, tags_symbols, tags_categories):\n",
    "    \"\"\"Take an entry and classify each part according to the tags\"\"\"\n",
    "    # Split the entry by the tags\n",
    "    parts = re.split('('+ '|'.join(re.escape(tag) for tag in tags_symbols) +')', entry)\n",
    "    \n",
    "    # Dictionary to hold the classified parts with categories as keys\n",
    "    classified_parts = {category: None for category in tags_categories.values()}\n",
    "    \n",
    "    # Process the split parts and classify them according to the tags\n",
    "    for i in range(1, len(parts), 2):  # iterate over every second element (tags) starting from index 1\n",
    "        tag = parts[i]\n",
    "        value = parts[i+1].strip()  # get the value after the tag\n",
    "        category = tags_categories.get(tag, None)  # get the category for the tag\n",
    "        if category:\n",
    "            classified_parts[category] = value  # assign the value to the correct category\n",
    "    \n",
    "    return classified_parts"
   ]
  },
  {
   "cell_type": "code",
   "execution_count": 181,
   "metadata": {},
   "outputs": [],
   "source": [
    "def load_and_create_ground_truth_df(input_df, tags):\n",
    "    \n",
    "    tags_dict = create_dict_tags(tags)\n",
    "    tags_list = create_list_tags(tags)\n",
    "\n",
    "    classified_data = []\n",
    "    # Concatenate all the dataframes from the entities.json file\n",
    "    for i in range(len(input_df)):\n",
    "        for entry in input_df['Information'].iloc[i].split('\\n'):\n",
    "            classified_data.append(classify_entry(entry, tags_list, tags_dict))\n",
    "\n",
    "    # Convert the classified data into a DataFrame\n",
    "    classified_df = pd.DataFrame(classified_data)\n",
    "    return classified_df"
   ]
  },
  {
   "cell_type": "code",
   "execution_count": 220,
   "metadata": {},
   "outputs": [],
   "source": [
    "data = load_df('../data/entities.json')\n",
    "tokens = load_tags('../data/tokens.yml')\n",
    "df = load_and_create_ground_truth_df(data, tokens)"
   ]
  },
  {
   "cell_type": "markdown",
   "metadata": {},
   "source": [
    "### Statistiques descriptives des données disponibles"
   ]
  },
  {
   "cell_type": "code",
   "execution_count": 221,
   "metadata": {},
   "outputs": [
    {
     "data": {
      "text/html": [
       "<div>\n",
       "<style scoped>\n",
       "    .dataframe tbody tr th:only-of-type {\n",
       "        vertical-align: middle;\n",
       "    }\n",
       "\n",
       "    .dataframe tbody tr th {\n",
       "        vertical-align: top;\n",
       "    }\n",
       "\n",
       "    .dataframe thead th {\n",
       "        text-align: right;\n",
       "    }\n",
       "</style>\n",
       "<table border=\"1\" class=\"dataframe\">\n",
       "  <thead>\n",
       "    <tr style=\"text-align: right;\">\n",
       "      <th></th>\n",
       "      <th>age</th>\n",
       "      <th>birth_date</th>\n",
       "      <th>civil_status</th>\n",
       "      <th>education_level</th>\n",
       "      <th>employer</th>\n",
       "      <th>firstname</th>\n",
       "      <th>link</th>\n",
       "      <th>lob</th>\n",
       "      <th>maiden_name</th>\n",
       "      <th>nationality</th>\n",
       "      <th>observation</th>\n",
       "      <th>occupation</th>\n",
       "      <th>surname</th>\n",
       "      <th>surname_household</th>\n",
       "    </tr>\n",
       "  </thead>\n",
       "  <tbody>\n",
       "    <tr>\n",
       "      <th>0</th>\n",
       "      <td>25</td>\n",
       "      <td>None</td>\n",
       "      <td>Garçon</td>\n",
       "      <td>None</td>\n",
       "      <td>None</td>\n",
       "      <td>Cyrille</td>\n",
       "      <td>None</td>\n",
       "      <td>None</td>\n",
       "      <td>None</td>\n",
       "      <td>française</td>\n",
       "      <td>None</td>\n",
       "      <td>menuisier</td>\n",
       "      <td>Breton</td>\n",
       "      <td>None</td>\n",
       "    </tr>\n",
       "    <tr>\n",
       "      <th>1</th>\n",
       "      <td>30</td>\n",
       "      <td>None</td>\n",
       "      <td>Garçon</td>\n",
       "      <td>None</td>\n",
       "      <td>None</td>\n",
       "      <td>Auguste</td>\n",
       "      <td>None</td>\n",
       "      <td>None</td>\n",
       "      <td>None</td>\n",
       "      <td>Piémontaise</td>\n",
       "      <td>None</td>\n",
       "      <td>vitrier</td>\n",
       "      <td>None</td>\n",
       "      <td>Ferazzi</td>\n",
       "    </tr>\n",
       "    <tr>\n",
       "      <th>2</th>\n",
       "      <td>24</td>\n",
       "      <td>None</td>\n",
       "      <td>Garçon</td>\n",
       "      <td>None</td>\n",
       "      <td>None</td>\n",
       "      <td>Pierre</td>\n",
       "      <td>None</td>\n",
       "      <td>None</td>\n",
       "      <td>None</td>\n",
       "      <td>Piémontaise</td>\n",
       "      <td>None</td>\n",
       "      <td>vitrier</td>\n",
       "      <td>None</td>\n",
       "      <td>Machol</td>\n",
       "    </tr>\n",
       "    <tr>\n",
       "      <th>3</th>\n",
       "      <td>48</td>\n",
       "      <td>None</td>\n",
       "      <td>Homme marié</td>\n",
       "      <td>None</td>\n",
       "      <td>None</td>\n",
       "      <td>Alexandre</td>\n",
       "      <td>None</td>\n",
       "      <td>None</td>\n",
       "      <td>None</td>\n",
       "      <td>française</td>\n",
       "      <td>None</td>\n",
       "      <td>prop re</td>\n",
       "      <td>None</td>\n",
       "      <td>Desbois</td>\n",
       "    </tr>\n",
       "    <tr>\n",
       "      <th>4</th>\n",
       "      <td>30</td>\n",
       "      <td>None</td>\n",
       "      <td>None</td>\n",
       "      <td>None</td>\n",
       "      <td>None</td>\n",
       "      <td>Zélie</td>\n",
       "      <td>sa fe</td>\n",
       "      <td>None</td>\n",
       "      <td>None</td>\n",
       "      <td>française</td>\n",
       "      <td>None</td>\n",
       "      <td>prop re</td>\n",
       "      <td>Vignat</td>\n",
       "      <td>None</td>\n",
       "    </tr>\n",
       "    <tr>\n",
       "      <th>...</th>\n",
       "      <td>...</td>\n",
       "      <td>...</td>\n",
       "      <td>...</td>\n",
       "      <td>...</td>\n",
       "      <td>...</td>\n",
       "      <td>...</td>\n",
       "      <td>...</td>\n",
       "      <td>...</td>\n",
       "      <td>...</td>\n",
       "      <td>...</td>\n",
       "      <td>...</td>\n",
       "      <td>...</td>\n",
       "      <td>...</td>\n",
       "      <td>...</td>\n",
       "    </tr>\n",
       "    <tr>\n",
       "      <th>25443</th>\n",
       "      <td>None</td>\n",
       "      <td>1887</td>\n",
       "      <td>None</td>\n",
       "      <td>None</td>\n",
       "      <td>None</td>\n",
       "      <td>Annunziata</td>\n",
       "      <td>épouse</td>\n",
       "      <td>idem</td>\n",
       "      <td>None</td>\n",
       "      <td>idem</td>\n",
       "      <td>None</td>\n",
       "      <td>None</td>\n",
       "      <td>Berni-Laureti</td>\n",
       "      <td>None</td>\n",
       "    </tr>\n",
       "    <tr>\n",
       "      <th>25444</th>\n",
       "      <td>None</td>\n",
       "      <td>1914</td>\n",
       "      <td>None</td>\n",
       "      <td>None</td>\n",
       "      <td>None</td>\n",
       "      <td>Primo</td>\n",
       "      <td>fils</td>\n",
       "      <td>idem</td>\n",
       "      <td>None</td>\n",
       "      <td>idem</td>\n",
       "      <td>None</td>\n",
       "      <td>None</td>\n",
       "      <td>Berni</td>\n",
       "      <td>None</td>\n",
       "    </tr>\n",
       "    <tr>\n",
       "      <th>25445</th>\n",
       "      <td>None</td>\n",
       "      <td>None</td>\n",
       "      <td>None</td>\n",
       "      <td>None</td>\n",
       "      <td>None</td>\n",
       "      <td>None</td>\n",
       "      <td>None</td>\n",
       "      <td>None</td>\n",
       "      <td>None</td>\n",
       "      <td>None</td>\n",
       "      <td>None</td>\n",
       "      <td>None</td>\n",
       "      <td>None</td>\n",
       "      <td>None</td>\n",
       "    </tr>\n",
       "    <tr>\n",
       "      <th>25446</th>\n",
       "      <td>None</td>\n",
       "      <td>None</td>\n",
       "      <td>None</td>\n",
       "      <td>None</td>\n",
       "      <td>None</td>\n",
       "      <td>None</td>\n",
       "      <td>None</td>\n",
       "      <td>None</td>\n",
       "      <td>None</td>\n",
       "      <td>None</td>\n",
       "      <td>None</td>\n",
       "      <td>None</td>\n",
       "      <td>None</td>\n",
       "      <td>None</td>\n",
       "    </tr>\n",
       "    <tr>\n",
       "      <th>25447</th>\n",
       "      <td>None</td>\n",
       "      <td>None</td>\n",
       "      <td>None</td>\n",
       "      <td>None</td>\n",
       "      <td>None</td>\n",
       "      <td>None</td>\n",
       "      <td>None</td>\n",
       "      <td>None</td>\n",
       "      <td>None</td>\n",
       "      <td>None</td>\n",
       "      <td>None</td>\n",
       "      <td>None</td>\n",
       "      <td>None</td>\n",
       "      <td>None</td>\n",
       "    </tr>\n",
       "  </tbody>\n",
       "</table>\n",
       "<p>25448 rows × 14 columns</p>\n",
       "</div>"
      ],
      "text/plain": [
       "        age birth_date civil_status education_level employer   firstname  \\\n",
       "0        25       None       Garçon            None     None     Cyrille   \n",
       "1        30       None       Garçon            None     None     Auguste   \n",
       "2        24       None       Garçon            None     None      Pierre   \n",
       "3        48       None  Homme marié            None     None   Alexandre   \n",
       "4        30       None         None            None     None       Zélie   \n",
       "...     ...        ...          ...             ...      ...         ...   \n",
       "25443  None       1887         None            None     None  Annunziata   \n",
       "25444  None       1914         None            None     None       Primo   \n",
       "25445  None       None         None            None     None        None   \n",
       "25446  None       None         None            None     None        None   \n",
       "25447  None       None         None            None     None        None   \n",
       "\n",
       "         link   lob maiden_name  nationality observation occupation  \\\n",
       "0        None  None        None    française        None  menuisier   \n",
       "1        None  None        None  Piémontaise        None    vitrier   \n",
       "2        None  None        None  Piémontaise        None    vitrier   \n",
       "3        None  None        None    française        None    prop re   \n",
       "4       sa fe  None        None    française        None    prop re   \n",
       "...       ...   ...         ...          ...         ...        ...   \n",
       "25443  épouse  idem        None         idem        None       None   \n",
       "25444    fils  idem        None         idem        None       None   \n",
       "25445    None  None        None         None        None       None   \n",
       "25446    None  None        None         None        None       None   \n",
       "25447    None  None        None         None        None       None   \n",
       "\n",
       "             surname surname_household  \n",
       "0             Breton              None  \n",
       "1               None           Ferazzi  \n",
       "2               None            Machol  \n",
       "3               None           Desbois  \n",
       "4             Vignat              None  \n",
       "...              ...               ...  \n",
       "25443  Berni-Laureti              None  \n",
       "25444          Berni              None  \n",
       "25445           None              None  \n",
       "25446           None              None  \n",
       "25447           None              None  \n",
       "\n",
       "[25448 rows x 14 columns]"
      ]
     },
     "execution_count": 221,
     "metadata": {},
     "output_type": "execute_result"
    }
   ],
   "source": [
    "# 25446 rows (=persons), 14 columns (=categories)\n",
    "df"
   ]
  },
  {
   "cell_type": "code",
   "execution_count": 222,
   "metadata": {},
   "outputs": [
    {
     "data": {
      "text/plain": [
       "age                   253\n",
       "birth_date            158\n",
       "civil_status            6\n",
       "education_level         0\n",
       "employer             1087\n",
       "firstname            2456\n",
       "link                  937\n",
       "lob                  2923\n",
       "maiden_name             0\n",
       "nationality            73\n",
       "observation           310\n",
       "occupation           2056\n",
       "surname              8120\n",
       "surname_household    4126\n",
       "dtype: int64"
      ]
     },
     "execution_count": 222,
     "metadata": {},
     "output_type": "execute_result"
    }
   ],
   "source": [
    "df.nunique()"
   ]
  },
  {
   "cell_type": "code",
   "execution_count": 223,
   "metadata": {},
   "outputs": [
    {
     "name": "stdout",
     "output_type": "stream",
     "text": [
      "Civil status: ['Garçon' 'Homme marié' None 'Fille' 'Femme mariée' 'Veuve' 'Veuf']\n"
     ]
    }
   ],
   "source": [
    "print(f\"Civil status: {df['civil_status'].unique()}\")\n",
    "# df['employer'].unique()"
   ]
  },
  {
   "cell_type": "code",
   "execution_count": 224,
   "metadata": {},
   "outputs": [
    {
     "data": {
      "text/html": [
       "<div>\n",
       "<style scoped>\n",
       "    .dataframe tbody tr th:only-of-type {\n",
       "        vertical-align: middle;\n",
       "    }\n",
       "\n",
       "    .dataframe tbody tr th {\n",
       "        vertical-align: top;\n",
       "    }\n",
       "\n",
       "    .dataframe thead th {\n",
       "        text-align: right;\n",
       "    }\n",
       "</style>\n",
       "<table border=\"1\" class=\"dataframe\">\n",
       "  <thead>\n",
       "    <tr style=\"text-align: right;\">\n",
       "      <th></th>\n",
       "      <th>age</th>\n",
       "      <th>birth_date</th>\n",
       "      <th>civil_status</th>\n",
       "      <th>education_level</th>\n",
       "      <th>employer</th>\n",
       "      <th>firstname</th>\n",
       "      <th>link</th>\n",
       "      <th>lob</th>\n",
       "      <th>maiden_name</th>\n",
       "      <th>nationality</th>\n",
       "      <th>observation</th>\n",
       "      <th>occupation</th>\n",
       "      <th>surname</th>\n",
       "      <th>surname_household</th>\n",
       "    </tr>\n",
       "  </thead>\n",
       "  <tbody>\n",
       "    <tr>\n",
       "      <th>count</th>\n",
       "      <td>16436</td>\n",
       "      <td>7344</td>\n",
       "      <td>10705</td>\n",
       "      <td>0</td>\n",
       "      <td>2911</td>\n",
       "      <td>24931</td>\n",
       "      <td>20736</td>\n",
       "      <td>9236</td>\n",
       "      <td>0</td>\n",
       "      <td>13314</td>\n",
       "      <td>602</td>\n",
       "      <td>16179</td>\n",
       "      <td>19159</td>\n",
       "      <td>5640</td>\n",
       "    </tr>\n",
       "    <tr>\n",
       "      <th>unique</th>\n",
       "      <td>253</td>\n",
       "      <td>158</td>\n",
       "      <td>6</td>\n",
       "      <td>0</td>\n",
       "      <td>1087</td>\n",
       "      <td>2456</td>\n",
       "      <td>937</td>\n",
       "      <td>2923</td>\n",
       "      <td>0</td>\n",
       "      <td>73</td>\n",
       "      <td>310</td>\n",
       "      <td>2056</td>\n",
       "      <td>8120</td>\n",
       "      <td>4126</td>\n",
       "    </tr>\n",
       "    <tr>\n",
       "      <th>top</th>\n",
       "      <td>2</td>\n",
       "      <td>1901</td>\n",
       "      <td>Garçon</td>\n",
       "      <td>NaN</td>\n",
       "      <td>patron</td>\n",
       "      <td>Marie</td>\n",
       "      <td>chef</td>\n",
       "      <td>idem</td>\n",
       "      <td>NaN</td>\n",
       "      <td>française</td>\n",
       "      <td>idem</td>\n",
       "      <td>idem</td>\n",
       "      <td>idem</td>\n",
       "      <td>Martin</td>\n",
       "    </tr>\n",
       "    <tr>\n",
       "      <th>freq</th>\n",
       "      <td>337</td>\n",
       "      <td>138</td>\n",
       "      <td>2824</td>\n",
       "      <td>NaN</td>\n",
       "      <td>644</td>\n",
       "      <td>2758</td>\n",
       "      <td>3022</td>\n",
       "      <td>3378</td>\n",
       "      <td>NaN</td>\n",
       "      <td>7916</td>\n",
       "      <td>88</td>\n",
       "      <td>3695</td>\n",
       "      <td>669</td>\n",
       "      <td>29</td>\n",
       "    </tr>\n",
       "  </tbody>\n",
       "</table>\n",
       "</div>"
      ],
      "text/plain": [
       "          age birth_date civil_status education_level employer firstname  \\\n",
       "count   16436       7344        10705               0     2911     24931   \n",
       "unique    253        158            6               0     1087      2456   \n",
       "top         2       1901       Garçon             NaN   patron     Marie   \n",
       "freq      337        138         2824             NaN      644      2758   \n",
       "\n",
       "         link   lob maiden_name nationality observation occupation surname  \\\n",
       "count   20736  9236           0       13314         602      16179   19159   \n",
       "unique    937  2923           0          73         310       2056    8120   \n",
       "top      chef  idem         NaN   française        idem       idem    idem   \n",
       "freq     3022  3378         NaN        7916          88       3695     669   \n",
       "\n",
       "       surname_household  \n",
       "count               5640  \n",
       "unique              4126  \n",
       "top               Martin  \n",
       "freq                  29  "
      ]
     },
     "execution_count": 224,
     "metadata": {},
     "output_type": "execute_result"
    }
   ],
   "source": [
    "df.describe()"
   ]
  },
  {
   "cell_type": "code",
   "execution_count": 225,
   "metadata": {},
   "outputs": [
    {
     "data": {
      "text/plain": [
       "age                   35.413392\n",
       "birth_date            71.141151\n",
       "civil_status          57.933826\n",
       "education_level      100.000000\n",
       "employer              88.560987\n",
       "firstname              2.031594\n",
       "link                  18.516190\n",
       "lob                   63.706382\n",
       "maiden_name          100.000000\n",
       "nationality           47.681547\n",
       "observation           97.634392\n",
       "occupation            36.423295\n",
       "surname               24.713141\n",
       "surname_household     77.837158\n",
       "dtype: float64"
      ]
     },
     "execution_count": 225,
     "metadata": {},
     "output_type": "execute_result"
    }
   ],
   "source": [
    "# Percentage of missing values\n",
    "df.isnull().sum() / len(df) * 100"
   ]
  },
  {
   "cell_type": "code",
   "execution_count": 226,
   "metadata": {},
   "outputs": [
    {
     "data": {
      "text/plain": [
       "age                  object\n",
       "birth_date           object\n",
       "civil_status         object\n",
       "education_level      object\n",
       "employer             object\n",
       "firstname            object\n",
       "link                 object\n",
       "lob                  object\n",
       "maiden_name          object\n",
       "nationality          object\n",
       "observation          object\n",
       "occupation           object\n",
       "surname              object\n",
       "surname_household    object\n",
       "dtype: object"
      ]
     },
     "execution_count": 226,
     "metadata": {},
     "output_type": "execute_result"
    }
   ],
   "source": [
    "df.dtypes"
   ]
  },
  {
   "cell_type": "code",
   "execution_count": 227,
   "metadata": {},
   "outputs": [],
   "source": [
    "# transform age in int to get mean (attention: missing values, or non-integer values like 'unknown', '5 mois')\n",
    "# df['age'].astype(int).mean()"
   ]
  },
  {
   "cell_type": "code",
   "execution_count": 228,
   "metadata": {},
   "outputs": [
    {
     "data": {
      "text/plain": [
       "civil_status\n",
       "Homme marié     1494\n",
       "Veuve            263\n",
       "Veuf             191\n",
       "Garçon            97\n",
       "Fille             93\n",
       "Femme mariée      25\n",
       "Name: count, dtype: int64"
      ]
     },
     "execution_count": 228,
     "metadata": {},
     "output_type": "execute_result"
    }
   ],
   "source": [
    "# civil status when surname_household is not null\n",
    "df[df['surname_household'].notnull()]['civil_status'].value_counts()"
   ]
  },
  {
   "cell_type": "markdown",
   "metadata": {},
   "source": [
    "#### Pre-processing for each category"
   ]
  },
  {
   "cell_type": "code",
   "execution_count": 229,
   "metadata": {},
   "outputs": [],
   "source": [
    "# Age\n",
    "\n",
    "# when idem is written, replace by the value of the previous row\n",
    "# df['age'] = df['age'].replace('idem', pd.NA).ffill()\n",
    "\n",
    "# when age is composed of a number followed by 'mois' and nothing else, replace by the number divided by 12\n",
    "# if df['age'].str.contains('mois').any():\n",
    "#         df['age'] = df['age'].str.replace('mois', '').astype(float)\n",
    "#         df['age'] = df['age'].apply(lambda x: x / 12 if x > 12 else x)\n",
    "\n",
    "# Some dates are composed of 4 digits, but looking at them, they are not necessarily birth dates\n",
    "# Replace them by NA to avoid misclassification\n",
    "mask = df['age'].notna() & df['age'].astype(str).str.match(r'^\\d{4}$')\n",
    "df.loc[mask, 'age'] = pd.NA"
   ]
  },
  {
   "cell_type": "code",
   "execution_count": 230,
   "metadata": {},
   "outputs": [],
   "source": [
    "# Birthdate\n",
    "# If the date is not composed of 4 characters, it is not a birth date, thus replace by NA\n",
    "mask = df['birth_date'].notna() & ~df['birth_date'].astype(str).str.match(r'^\\d{4}$')\n",
    "df.loc[mask, 'birth_date'] = pd.NA"
   ]
  },
  {
   "cell_type": "code",
   "execution_count": 231,
   "metadata": {},
   "outputs": [],
   "source": [
    "# Link\n",
    "# df['link'] = df['link'].replace('sa fe', 'sa femme')\n",
    "# df['link'] = df['link'].replace('(sa femme)', 'sa femme')\n",
    "# df['link'] = df['link'].replace('CHEF DE MENAGE', 'Chef de ménage')\n",
    "# df['link'] = df['link'].replace('Chef', 'Chef de ménage')\n",
    "# df['link'] = df['link'].replace('Chef de menage', 'Chef de ménage')\n",
    "# df['link'] = df['link'].replace('Chef de mén', 'Chef de ménage')\n",
    "\n",
    "# Beaucoup de valeurs similaires sont écrites de manière différente, utiles de les modifier?"
   ]
  },
  {
   "cell_type": "code",
   "execution_count": 232,
   "metadata": {},
   "outputs": [],
   "source": [
    "# Nationality\n",
    "# df['nationality'] = df['nationality'].replace('idem', pd.NA).ffill()"
   ]
  },
  {
   "cell_type": "code",
   "execution_count": 233,
   "metadata": {},
   "outputs": [
    {
     "data": {
      "text/html": [
       "<div>\n",
       "<style scoped>\n",
       "    .dataframe tbody tr th:only-of-type {\n",
       "        vertical-align: middle;\n",
       "    }\n",
       "\n",
       "    .dataframe tbody tr th {\n",
       "        vertical-align: top;\n",
       "    }\n",
       "\n",
       "    .dataframe thead th {\n",
       "        text-align: right;\n",
       "    }\n",
       "</style>\n",
       "<table border=\"1\" class=\"dataframe\">\n",
       "  <thead>\n",
       "    <tr style=\"text-align: right;\">\n",
       "      <th></th>\n",
       "      <th>age</th>\n",
       "      <th>birth_date</th>\n",
       "      <th>civil_status</th>\n",
       "      <th>education_level</th>\n",
       "      <th>employer</th>\n",
       "      <th>firstname</th>\n",
       "      <th>link</th>\n",
       "      <th>lob</th>\n",
       "      <th>maiden_name</th>\n",
       "      <th>nationality</th>\n",
       "      <th>observation</th>\n",
       "      <th>occupation</th>\n",
       "      <th>surname</th>\n",
       "      <th>surname_household</th>\n",
       "    </tr>\n",
       "  </thead>\n",
       "  <tbody>\n",
       "    <tr>\n",
       "      <th>0</th>\n",
       "      <td>25</td>\n",
       "      <td>None</td>\n",
       "      <td>Garçon</td>\n",
       "      <td>None</td>\n",
       "      <td>None</td>\n",
       "      <td>Cyrille</td>\n",
       "      <td>None</td>\n",
       "      <td>None</td>\n",
       "      <td>None</td>\n",
       "      <td>française</td>\n",
       "      <td>None</td>\n",
       "      <td>menuisier</td>\n",
       "      <td>Breton</td>\n",
       "      <td>None</td>\n",
       "    </tr>\n",
       "    <tr>\n",
       "      <th>1</th>\n",
       "      <td>30</td>\n",
       "      <td>None</td>\n",
       "      <td>Garçon</td>\n",
       "      <td>None</td>\n",
       "      <td>None</td>\n",
       "      <td>Auguste</td>\n",
       "      <td>None</td>\n",
       "      <td>None</td>\n",
       "      <td>None</td>\n",
       "      <td>Piémontaise</td>\n",
       "      <td>None</td>\n",
       "      <td>vitrier</td>\n",
       "      <td>None</td>\n",
       "      <td>Ferazzi</td>\n",
       "    </tr>\n",
       "    <tr>\n",
       "      <th>2</th>\n",
       "      <td>24</td>\n",
       "      <td>None</td>\n",
       "      <td>Garçon</td>\n",
       "      <td>None</td>\n",
       "      <td>None</td>\n",
       "      <td>Pierre</td>\n",
       "      <td>None</td>\n",
       "      <td>None</td>\n",
       "      <td>None</td>\n",
       "      <td>Piémontaise</td>\n",
       "      <td>None</td>\n",
       "      <td>vitrier</td>\n",
       "      <td>None</td>\n",
       "      <td>Machol</td>\n",
       "    </tr>\n",
       "    <tr>\n",
       "      <th>3</th>\n",
       "      <td>48</td>\n",
       "      <td>None</td>\n",
       "      <td>Homme marié</td>\n",
       "      <td>None</td>\n",
       "      <td>None</td>\n",
       "      <td>Alexandre</td>\n",
       "      <td>None</td>\n",
       "      <td>None</td>\n",
       "      <td>None</td>\n",
       "      <td>française</td>\n",
       "      <td>None</td>\n",
       "      <td>prop re</td>\n",
       "      <td>None</td>\n",
       "      <td>Desbois</td>\n",
       "    </tr>\n",
       "    <tr>\n",
       "      <th>4</th>\n",
       "      <td>30</td>\n",
       "      <td>None</td>\n",
       "      <td>None</td>\n",
       "      <td>None</td>\n",
       "      <td>None</td>\n",
       "      <td>Zélie</td>\n",
       "      <td>sa fe</td>\n",
       "      <td>None</td>\n",
       "      <td>None</td>\n",
       "      <td>française</td>\n",
       "      <td>None</td>\n",
       "      <td>prop re</td>\n",
       "      <td>Vignat</td>\n",
       "      <td>None</td>\n",
       "    </tr>\n",
       "    <tr>\n",
       "      <th>...</th>\n",
       "      <td>...</td>\n",
       "      <td>...</td>\n",
       "      <td>...</td>\n",
       "      <td>...</td>\n",
       "      <td>...</td>\n",
       "      <td>...</td>\n",
       "      <td>...</td>\n",
       "      <td>...</td>\n",
       "      <td>...</td>\n",
       "      <td>...</td>\n",
       "      <td>...</td>\n",
       "      <td>...</td>\n",
       "      <td>...</td>\n",
       "      <td>...</td>\n",
       "    </tr>\n",
       "    <tr>\n",
       "      <th>25443</th>\n",
       "      <td>None</td>\n",
       "      <td>1887</td>\n",
       "      <td>None</td>\n",
       "      <td>None</td>\n",
       "      <td>None</td>\n",
       "      <td>Annunziata</td>\n",
       "      <td>épouse</td>\n",
       "      <td>idem</td>\n",
       "      <td>None</td>\n",
       "      <td>idem</td>\n",
       "      <td>None</td>\n",
       "      <td>None</td>\n",
       "      <td>Berni-Laureti</td>\n",
       "      <td>None</td>\n",
       "    </tr>\n",
       "    <tr>\n",
       "      <th>25444</th>\n",
       "      <td>None</td>\n",
       "      <td>1914</td>\n",
       "      <td>None</td>\n",
       "      <td>None</td>\n",
       "      <td>None</td>\n",
       "      <td>Primo</td>\n",
       "      <td>fils</td>\n",
       "      <td>idem</td>\n",
       "      <td>None</td>\n",
       "      <td>idem</td>\n",
       "      <td>None</td>\n",
       "      <td>None</td>\n",
       "      <td>Berni</td>\n",
       "      <td>None</td>\n",
       "    </tr>\n",
       "    <tr>\n",
       "      <th>25445</th>\n",
       "      <td>None</td>\n",
       "      <td>None</td>\n",
       "      <td>None</td>\n",
       "      <td>None</td>\n",
       "      <td>None</td>\n",
       "      <td>None</td>\n",
       "      <td>None</td>\n",
       "      <td>None</td>\n",
       "      <td>None</td>\n",
       "      <td>None</td>\n",
       "      <td>None</td>\n",
       "      <td>None</td>\n",
       "      <td>None</td>\n",
       "      <td>None</td>\n",
       "    </tr>\n",
       "    <tr>\n",
       "      <th>25446</th>\n",
       "      <td>None</td>\n",
       "      <td>None</td>\n",
       "      <td>None</td>\n",
       "      <td>None</td>\n",
       "      <td>None</td>\n",
       "      <td>None</td>\n",
       "      <td>None</td>\n",
       "      <td>None</td>\n",
       "      <td>None</td>\n",
       "      <td>None</td>\n",
       "      <td>None</td>\n",
       "      <td>None</td>\n",
       "      <td>None</td>\n",
       "      <td>None</td>\n",
       "    </tr>\n",
       "    <tr>\n",
       "      <th>25447</th>\n",
       "      <td>None</td>\n",
       "      <td>None</td>\n",
       "      <td>None</td>\n",
       "      <td>None</td>\n",
       "      <td>None</td>\n",
       "      <td>None</td>\n",
       "      <td>None</td>\n",
       "      <td>None</td>\n",
       "      <td>None</td>\n",
       "      <td>None</td>\n",
       "      <td>None</td>\n",
       "      <td>None</td>\n",
       "      <td>None</td>\n",
       "      <td>None</td>\n",
       "    </tr>\n",
       "  </tbody>\n",
       "</table>\n",
       "<p>25448 rows × 14 columns</p>\n",
       "</div>"
      ],
      "text/plain": [
       "        age birth_date civil_status education_level employer   firstname  \\\n",
       "0        25       None       Garçon            None     None     Cyrille   \n",
       "1        30       None       Garçon            None     None     Auguste   \n",
       "2        24       None       Garçon            None     None      Pierre   \n",
       "3        48       None  Homme marié            None     None   Alexandre   \n",
       "4        30       None         None            None     None       Zélie   \n",
       "...     ...        ...          ...             ...      ...         ...   \n",
       "25443  None       1887         None            None     None  Annunziata   \n",
       "25444  None       1914         None            None     None       Primo   \n",
       "25445  None       None         None            None     None        None   \n",
       "25446  None       None         None            None     None        None   \n",
       "25447  None       None         None            None     None        None   \n",
       "\n",
       "         link   lob maiden_name  nationality observation occupation  \\\n",
       "0        None  None        None    française        None  menuisier   \n",
       "1        None  None        None  Piémontaise        None    vitrier   \n",
       "2        None  None        None  Piémontaise        None    vitrier   \n",
       "3        None  None        None    française        None    prop re   \n",
       "4       sa fe  None        None    française        None    prop re   \n",
       "...       ...   ...         ...          ...         ...        ...   \n",
       "25443  épouse  idem        None         idem        None       None   \n",
       "25444    fils  idem        None         idem        None       None   \n",
       "25445    None  None        None         None        None       None   \n",
       "25446    None  None        None         None        None       None   \n",
       "25447    None  None        None         None        None       None   \n",
       "\n",
       "             surname surname_household  \n",
       "0             Breton              None  \n",
       "1               None           Ferazzi  \n",
       "2               None            Machol  \n",
       "3               None           Desbois  \n",
       "4             Vignat              None  \n",
       "...              ...               ...  \n",
       "25443  Berni-Laureti              None  \n",
       "25444          Berni              None  \n",
       "25445           None              None  \n",
       "25446           None              None  \n",
       "25447           None              None  \n",
       "\n",
       "[25448 rows x 14 columns]"
      ]
     },
     "execution_count": 233,
     "metadata": {},
     "output_type": "execute_result"
    }
   ],
   "source": [
    "df"
   ]
  },
  {
   "cell_type": "markdown",
   "metadata": {},
   "source": [
    "#### Build test data"
   ]
  },
  {
   "cell_type": "code",
   "execution_count": null,
   "metadata": {},
   "outputs": [],
   "source": []
  },
  {
   "cell_type": "code",
   "execution_count": null,
   "metadata": {},
   "outputs": [],
   "source": []
  },
  {
   "cell_type": "code",
   "execution_count": null,
   "metadata": {},
   "outputs": [],
   "source": []
  },
  {
   "cell_type": "code",
   "execution_count": null,
   "metadata": {},
   "outputs": [],
   "source": []
  },
  {
   "cell_type": "code",
   "execution_count": null,
   "metadata": {},
   "outputs": [],
   "source": []
  },
  {
   "cell_type": "markdown",
   "metadata": {},
   "source": [
    "#### LLM"
   ]
  },
  {
   "cell_type": "markdown",
   "metadata": {},
   "source": [
    "- https://nlpprogress.com/english/named_entity_recognition.html\n",
    "- https://huggingface.co/transformers/v3.2.0/custom_datasets.html#token-classification-with-w-nut-emerging-entities\n",
    "  "
   ]
  },
  {
   "cell_type": "code",
   "execution_count": 289,
   "metadata": {},
   "outputs": [],
   "source": [
    "def extract_text_tags_from_df(df):\n",
    "    words_list = []\n",
    "    categories_list = []\n",
    "\n",
    "    # Iterate over each row and column, collecting non-None values and their column names\n",
    "    for index, row in df.iterrows():\n",
    "        for column in df.columns:\n",
    "            value = row[column]\n",
    "            if pd.notnull(value):\n",
    "                words_list.append(value)\n",
    "                categories_list.append(column)\n",
    "\n",
    "    # print(len(words_list), len(categories_list))\n",
    "    return words_list, categories_list"
   ]
  },
  {
   "cell_type": "code",
   "execution_count": 290,
   "metadata": {},
   "outputs": [],
   "source": [
    "# Create text and tags\n",
    "categories = tokens.keys()\n",
    "texts, tags = extract_text_tags_from_df(df)"
   ]
  },
  {
   "cell_type": "code",
   "execution_count": 291,
   "metadata": {},
   "outputs": [
    {
     "data": {
      "text/plain": [
       "(['25', 'Garçon', 'Cyrille'], ['age', 'civil_status', 'firstname'])"
      ]
     },
     "execution_count": 291,
     "metadata": {},
     "output_type": "execute_result"
    }
   ],
   "source": [
    "texts[:3], tags[:3]"
   ]
  },
  {
   "cell_type": "code",
   "execution_count": 296,
   "metadata": {},
   "outputs": [],
   "source": [
    "train_texts, test_texts, train_tags, test_tags = train_test_split(texts, tags, test_size=.2)\n",
    "# train_texts, val_texts, train_tags, val_tags = train_test_split(train_texts, train_tags, test_size=.2)"
   ]
  },
  {
   "cell_type": "code",
   "execution_count": 297,
   "metadata": {},
   "outputs": [
    {
     "data": {
      "text/plain": [
       "(['Marie', 'fille', 'son fils'], ['firstname', 'link', 'link'])"
      ]
     },
     "execution_count": 297,
     "metadata": {},
     "output_type": "execute_result"
    }
   ],
   "source": [
    "train_texts[:3], train_tags[:3]"
   ]
  },
  {
   "cell_type": "code",
   "execution_count": 298,
   "metadata": {},
   "outputs": [],
   "source": [
    "# create encodings for our tags\n",
    "tag2id = {tag: id for id, tag in enumerate(categories)}\n",
    "id2tag = {id: tag for tag, id in tag2id.items()}"
   ]
  },
  {
   "cell_type": "code",
   "execution_count": 317,
   "metadata": {},
   "outputs": [],
   "source": [
    "# Encode tokens\n",
    "tokenizer = DistilBertTokenizerFast.from_pretrained('distilbert-base-cased')\n",
    "train_encodings = tokenizer(train_texts, is_split_into_words=True, return_offsets_mapping=True, padding=True, truncation=True)\n",
    "val_encodings = tokenizer(test_texts, is_split_into_words=True, return_offsets_mapping=True, padding=True, truncation=True)"
   ]
  },
  {
   "cell_type": "code",
   "execution_count": 323,
   "metadata": {},
   "outputs": [
    {
     "name": "stdout",
     "output_type": "stream",
     "text": [
      "(2,)\n",
      "[0 0]\n"
     ]
    },
    {
     "ename": "IndexError",
     "evalue": "too many indices for array: array is 1-dimensional, but 2 were indexed",
     "output_type": "error",
     "traceback": [
      "\u001b[0;31m---------------------------------------------------------------------------\u001b[0m",
      "\u001b[0;31mIndexError\u001b[0m                                Traceback (most recent call last)",
      "\u001b[1;32m/Users/adelemoreau/Desktop/ENSAE/3A/S2/NLP/nlp-archives-project/src/stat_des.ipynb Cell 39\u001b[0m line \u001b[0;36m1\n\u001b[1;32m     <a href='vscode-notebook-cell:/Users/adelemoreau/Desktop/ENSAE/3A/S2/NLP/nlp-archives-project/src/stat_des.ipynb#Y112sZmlsZQ%3D%3D?line=14'>15</a>\u001b[0m         encoded_labels\u001b[39m.\u001b[39mappend(doc_enc_labels\u001b[39m.\u001b[39mtolist())\n\u001b[1;32m     <a href='vscode-notebook-cell:/Users/adelemoreau/Desktop/ENSAE/3A/S2/NLP/nlp-archives-project/src/stat_des.ipynb#Y112sZmlsZQ%3D%3D?line=16'>17</a>\u001b[0m     \u001b[39mreturn\u001b[39;00m encoded_labels\n\u001b[0;32m---> <a href='vscode-notebook-cell:/Users/adelemoreau/Desktop/ENSAE/3A/S2/NLP/nlp-archives-project/src/stat_des.ipynb#Y112sZmlsZQ%3D%3D?line=18'>19</a>\u001b[0m train_labels \u001b[39m=\u001b[39m encode_tags(train_tags, train_encodings)\n\u001b[1;32m     <a href='vscode-notebook-cell:/Users/adelemoreau/Desktop/ENSAE/3A/S2/NLP/nlp-archives-project/src/stat_des.ipynb#Y112sZmlsZQ%3D%3D?line=19'>20</a>\u001b[0m val_labels \u001b[39m=\u001b[39m encode_tags(test_tags, val_encodings)\n",
      "\u001b[1;32m/Users/adelemoreau/Desktop/ENSAE/3A/S2/NLP/nlp-archives-project/src/stat_des.ipynb Cell 39\u001b[0m line \u001b[0;36m1\n\u001b[1;32m     <a href='vscode-notebook-cell:/Users/adelemoreau/Desktop/ENSAE/3A/S2/NLP/nlp-archives-project/src/stat_des.ipynb#Y112sZmlsZQ%3D%3D?line=10'>11</a>\u001b[0m     \u001b[39mprint\u001b[39m(arr_offset[:\u001b[39m10\u001b[39m])   \u001b[39m# To print a sample of the offsets.\u001b[39;00m\n\u001b[1;32m     <a href='vscode-notebook-cell:/Users/adelemoreau/Desktop/ENSAE/3A/S2/NLP/nlp-archives-project/src/stat_des.ipynb#Y112sZmlsZQ%3D%3D?line=12'>13</a>\u001b[0m     \u001b[39m# set labels whose first offset position is 0 and the second is not 0\u001b[39;00m\n\u001b[0;32m---> <a href='vscode-notebook-cell:/Users/adelemoreau/Desktop/ENSAE/3A/S2/NLP/nlp-archives-project/src/stat_des.ipynb#Y112sZmlsZQ%3D%3D?line=13'>14</a>\u001b[0m     doc_enc_labels[(arr_offset[:,\u001b[39m0\u001b[39;49m] \u001b[39m==\u001b[39m \u001b[39m0\u001b[39m) \u001b[39m&\u001b[39m (arr_offset[:,\u001b[39m1\u001b[39m] \u001b[39m!=\u001b[39m \u001b[39m0\u001b[39m)] \u001b[39m=\u001b[39m doc_labels\n\u001b[1;32m     <a href='vscode-notebook-cell:/Users/adelemoreau/Desktop/ENSAE/3A/S2/NLP/nlp-archives-project/src/stat_des.ipynb#Y112sZmlsZQ%3D%3D?line=14'>15</a>\u001b[0m     encoded_labels\u001b[39m.\u001b[39mappend(doc_enc_labels\u001b[39m.\u001b[39mtolist())\n\u001b[1;32m     <a href='vscode-notebook-cell:/Users/adelemoreau/Desktop/ENSAE/3A/S2/NLP/nlp-archives-project/src/stat_des.ipynb#Y112sZmlsZQ%3D%3D?line=16'>17</a>\u001b[0m \u001b[39mreturn\u001b[39;00m encoded_labels\n",
      "\u001b[0;31mIndexError\u001b[0m: too many indices for array: array is 1-dimensional, but 2 were indexed"
     ]
    }
   ],
   "source": [
    "def encode_tags(tags, encodings):\n",
    "    # labels = [[tag2id[tag] for tag in doc] for doc in tags]\n",
    "    labels = [tag2id[tag] for tag in tags]\n",
    "    encoded_labels = []\n",
    "    for doc_labels, doc_offset in zip(labels, encodings.offset_mapping):\n",
    "        # create an empty array of -100\n",
    "        doc_enc_labels = np.ones(len(doc_offset),dtype=int) * -100\n",
    "        arr_offset = np.array(doc_offset)\n",
    "        \n",
    "        print(arr_offset.shape)  # To check the shape of the array.\n",
    "        print(arr_offset[:10])   # To print a sample of the offsets.\n",
    "\n",
    "        # set labels whose first offset position is 0 and the second is not 0\n",
    "        doc_enc_labels[(arr_offset[:,0] == 0) & (arr_offset[:,1] != 0)] = doc_labels\n",
    "        encoded_labels.append(doc_enc_labels.tolist())\n",
    "\n",
    "    return encoded_labels\n",
    "\n",
    "train_labels = encode_tags(train_tags, train_encodings)\n",
    "val_labels = encode_tags(test_tags, val_encodings)"
   ]
  },
  {
   "cell_type": "code",
   "execution_count": null,
   "metadata": {},
   "outputs": [],
   "source": [
    "# Create a dataset class\n",
    "class ArchiveDataset(torch.utils.data.Dataset):\n",
    "    def __init__(self, encodings, labels):\n",
    "        self.encodings = encodings\n",
    "        self.labels = labels\n",
    "\n",
    "    def __getitem__(self, idx):\n",
    "        item = {key: torch.tensor(val[idx]) for key, val in self.encodings.items()}\n",
    "        item['labels'] = torch.tensor(self.labels[idx])\n",
    "        return item\n",
    "\n",
    "    def __len__(self):\n",
    "        return len(self.labels)\n",
    "\n",
    "train_encodings.pop(\"offset_mapping\") # we don't want to pass this to the model\n",
    "val_encodings.pop(\"offset_mapping\")\n",
    "train_dataset = ArchiveDataset(train_encodings, train_labels)\n",
    "val_dataset = ArchiveDataset(val_encodings, val_labels)"
   ]
  },
  {
   "cell_type": "code",
   "execution_count": null,
   "metadata": {},
   "outputs": [],
   "source": [
    "model = DistilBertForTokenClassification.from_pretrained('distilbert-base-cased', num_labels=len(categories))"
   ]
  },
  {
   "cell_type": "code",
   "execution_count": null,
   "metadata": {},
   "outputs": [],
   "source": [
    "model"
   ]
  },
  {
   "cell_type": "code",
   "execution_count": null,
   "metadata": {},
   "outputs": [],
   "source": []
  },
  {
   "cell_type": "code",
   "execution_count": null,
   "metadata": {},
   "outputs": [],
   "source": []
  },
  {
   "cell_type": "markdown",
   "metadata": {},
   "source": [
    "Todo:\n",
    "- créer dataframe avec chaque info séparées\n",
    "- utiliser les tokens.yml pour évaluer le système\n",
    "- une fonction qui renvoie le df ground truth et une fonction qui renvoie un dataframe avec tous les mots à classifier dans une liste\n",
    "- séparer train et test, quel format?"
   ]
  },
  {
   "cell_type": "markdown",
   "metadata": {},
   "source": [
    "Pre-processing:\n",
    "- replace 'sa fe' par 'sa femme' par exemple"
   ]
  },
  {
   "cell_type": "markdown",
   "metadata": {},
   "source": [
    "Questions:\n",
    "- Sous quel format arrive les données? pas déjà taggées"
   ]
  },
  {
   "cell_type": "markdown",
   "metadata": {},
   "source": [
    "Notes: \n",
    "- surname household = nom homme marié\n",
    "- Attention: différencier pre-processing sur le dataset de train et dataset de test\n",
    "- text and tags do not take into account the order, should we?"
   ]
  },
  {
   "cell_type": "markdown",
   "metadata": {},
   "source": []
  }
 ],
 "metadata": {
  "kernelspec": {
   "display_name": ".venv",
   "language": "python",
   "name": "python3"
  },
  "language_info": {
   "codemirror_mode": {
    "name": "ipython",
    "version": 3
   },
   "file_extension": ".py",
   "mimetype": "text/x-python",
   "name": "python",
   "nbconvert_exporter": "python",
   "pygments_lexer": "ipython3",
   "version": "3.9.6"
  }
 },
 "nbformat": 4,
 "nbformat_minor": 2
}
